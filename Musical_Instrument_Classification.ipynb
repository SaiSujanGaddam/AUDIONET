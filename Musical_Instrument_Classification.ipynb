{
  "nbformat": 4,
  "nbformat_minor": 0,
  "metadata": {
    "colab": {
      "provenance": [],
      "gpuType": "T4"
    },
    "kernelspec": {
      "name": "python3",
      "display_name": "Python 3"
    },
    "language_info": {
      "name": "python"
    },
    "accelerator": "GPU"
  },
  "cells": [
    {
      "cell_type": "code",
      "execution_count": null,
      "metadata": {
        "colab": {
          "base_uri": "https://localhost:8080/"
        },
        "id": "c5MsxgjPtv0i",
        "outputId": "0b2dbb18-90e0-41f6-e16e-90049c696b15"
      },
      "outputs": [
        {
          "output_type": "stream",
          "name": "stdout",
          "text": [
            "Mounted at /content/drive\n"
          ]
        }
      ],
      "source": [
        "from google.colab import drive\n",
        "drive.mount('/content/drive')"
      ]
    },
    {
      "cell_type": "code",
      "source": [
        "!unzip -q \"/content/drive/My Drive/net_audio.zip\" -d /content/net_audio\n",
        "print(\"Extraction complete. Check /content/net_audio\")\n"
      ],
      "metadata": {
        "colab": {
          "base_uri": "https://localhost:8080/"
        },
        "id": "rLXlQAnMt3Fg",
        "outputId": "988efbe0-7425-40bb-83a8-2d41300ca3e7"
      },
      "execution_count": null,
      "outputs": [
        {
          "output_type": "stream",
          "name": "stdout",
          "text": [
            "Extraction complete. Check /content/net_audio\n"
          ]
        }
      ]
    },
    {
      "cell_type": "code",
      "source": [
        "import os\n",
        "import numpy as np\n",
        "import librosa\n",
        "import matplotlib.pyplot as plt\n",
        "import seaborn as sns\n",
        "\n",
        "from sklearn.model_selection import train_test_split\n",
        "from sklearn.preprocessing import LabelEncoder\n",
        "from sklearn.svm import SVC\n",
        "from sklearn.metrics import accuracy_score, classification_report, confusion_matrix\n"
      ],
      "metadata": {
        "id": "2EIjEbGHuAXs"
      },
      "execution_count": null,
      "outputs": []
    },
    {
      "cell_type": "code",
      "source": [
        "# Set the path to the extracted audio folder.\n",
        "audio_folder = '/content/net_audio/net_audio'\n",
        "\n",
        "# Initialize lists to store file paths and labels.\n",
        "audio_files = []\n",
        "labels = []\n",
        "\n",
        "# Loop through each subfolder (instrument class).\n",
        "for instrument in os.listdir(audio_folder):\n",
        "    subfolder = os.path.join(audio_folder, instrument)\n",
        "    if os.path.isdir(subfolder):\n",
        "        for filename in os.listdir(subfolder):\n",
        "            if filename.endswith('.mp3'):\n",
        "                file_path = os.path.join(subfolder, filename)\n",
        "                audio_files.append(file_path)\n",
        "                labels.append(instrument)\n",
        "\n",
        "print(\"Found {} audio files.\".format(len(audio_files)))\n"
      ],
      "metadata": {
        "colab": {
          "base_uri": "https://localhost:8080/"
        },
        "id": "pBzxPVVeuJ8c",
        "outputId": "8fa67d7a-db09-4787-fabe-bc5352b98098"
      },
      "execution_count": null,
      "outputs": [
        {
          "output_type": "stream",
          "name": "stdout",
          "text": [
            "Found 3979 audio files.\n"
          ]
        }
      ]
    },
    {
      "cell_type": "code",
      "source": [
        "def extract_features(file_path, n_mfcc=20):\n",
        "    try:\n",
        "        audio, sr = librosa.load(file_path, sr=None)\n",
        "        # Compute MFCC features; result shape is (n_mfcc, frames)\n",
        "        mfccs = librosa.feature.mfcc(y=audio, sr=sr, n_mfcc=n_mfcc)\n",
        "        # Take the mean of each coefficient over time\n",
        "        mfccs_mean = np.mean(mfccs, axis=1)\n",
        "    except Exception as e:\n",
        "        print(\"Error processing {}: {}\".format(file_path, e))\n",
        "        return None\n",
        "    return mfccs_mean\n",
        "\n",
        "# Extract features for all audio files.\n",
        "features = []\n",
        "valid_labels = []\n",
        "\n",
        "for f, lab in zip(audio_files, labels):\n",
        "    feat = extract_features(f)\n",
        "    if feat is not None:\n",
        "        features.append(feat)\n",
        "        valid_labels.append(lab)\n",
        "\n",
        "X = np.array(features)\n",
        "print(\"Feature matrix shape:\", X.shape)\n"
      ],
      "metadata": {
        "colab": {
          "base_uri": "https://localhost:8080/"
        },
        "id": "O7YoEjFgumZf",
        "outputId": "4dd2bf6d-9769-47ac-9546-2792345f069f"
      },
      "execution_count": null,
      "outputs": [
        {
          "output_type": "stream",
          "name": "stdout",
          "text": [
            "Feature matrix shape: (3979, 20)\n"
          ]
        }
      ]
    },
    {
      "cell_type": "code",
      "source": [
        "le = LabelEncoder()\n",
        "y = le.fit_transform(valid_labels)\n",
        "print(\"Discovered instrument classes:\", le.classes_)\n",
        "\n",
        "if len(le.classes_) != 4:\n",
        "    print(\"WARNING: Expected exactly 4 instrument classes, but found {}.\".format(len(le.classes_)))\n"
      ],
      "metadata": {
        "colab": {
          "base_uri": "https://localhost:8080/"
        },
        "id": "2AfgEJvquq0O",
        "outputId": "3efe05e6-497c-40c1-ef20-c058f98c0fc2"
      },
      "execution_count": null,
      "outputs": [
        {
          "output_type": "stream",
          "name": "stdout",
          "text": [
            "Discovered instrument classes: ['cello' 'contrabassoon' 'flute' 'violin']\n"
          ]
        }
      ]
    },
    {
      "cell_type": "code",
      "source": [
        "# Split data into 80% training and 20% testing\n",
        "X_train, X_test, y_train, y_test = train_test_split(X, y, test_size=0.2, random_state=42)\n",
        "\n",
        "# Create and train the SVM classifier\n",
        "clf = SVC(kernel='linear', probability=True)\n",
        "clf.fit(X_train, y_train)\n",
        "\n",
        "# Make predictions on the test set\n",
        "y_pred = clf.predict(X_test)\n",
        "accuracy = accuracy_score(y_test, y_pred)\n",
        "print(\"Test Accuracy: {:.2f}%\".format(accuracy * 100))\n",
        "\n",
        "print(\"\\nClassification Report:\")\n",
        "print(classification_report(y_test, y_pred, target_names=le.classes_))\n"
      ],
      "metadata": {
        "colab": {
          "base_uri": "https://localhost:8080/"
        },
        "id": "Wk9oxa0mvGKt",
        "outputId": "8f834a36-6b24-443c-bc37-5c3e1d994064"
      },
      "execution_count": null,
      "outputs": [
        {
          "output_type": "stream",
          "name": "stdout",
          "text": [
            "Test Accuracy: 97.86%\n",
            "\n",
            "Classification Report:\n",
            "               precision    recall  f1-score   support\n",
            "\n",
            "        cello       0.95      0.96      0.95       183\n",
            "contrabassoon       1.00      0.98      0.99       131\n",
            "        flute       1.00      0.99      1.00       160\n",
            "       violin       0.98      0.98      0.98       322\n",
            "\n",
            "     accuracy                           0.98       796\n",
            "    macro avg       0.98      0.98      0.98       796\n",
            " weighted avg       0.98      0.98      0.98       796\n",
            "\n"
          ]
        }
      ]
    },
    {
      "cell_type": "code",
      "source": [
        "cm = confusion_matrix(y_test, y_pred)\n",
        "plt.figure(figsize=(6, 5))\n",
        "sns.heatmap(cm, annot=True, fmt='d', cmap='Blues', xticklabels=le.classes_, yticklabels=le.classes_)\n",
        "plt.xlabel('Predicted')\n",
        "plt.ylabel('True')\n",
        "plt.title('Confusion Matrix')\n",
        "plt.show()\n"
      ],
      "metadata": {
        "colab": {
          "base_uri": "https://localhost:8080/",
          "height": 487
        },
        "id": "dk_XnD42vMEj",
        "outputId": "f7069f70-ba42-4b90-909c-aa7d3f1b714f"
      },
      "execution_count": null,
      "outputs": [
        {
          "output_type": "display_data",
          "data": {
            "text/plain": [
              "<Figure size 600x500 with 2 Axes>"
            ],
            "image/png": "[encoded data removed]"
          },
          "metadata": {}
        }
      ]
    },
    {
      "cell_type": "code",
      "source": [
        "# Pick a sample audio file\n",
        "sample_path = audio_files[0]\n",
        "print(\"Predicting for file:\", sample_path)\n",
        "\n",
        "feat = extract_features(sample_path)\n",
        "if feat is not None:\n",
        "    feat = feat.reshape(1, -1)\n",
        "    prediction = clf.predict(feat)\n",
        "    predicted_label = le.inverse_transform(prediction)\n",
        "    print(\"Predicted instrument:\", predicted_label[0])"
      ],
      "metadata": {
        "colab": {
          "base_uri": "https://localhost:8080/"
        },
        "id": "GYzxlcYlvPJo",
        "outputId": "5d4ac9db-3311-4497-b906-fb1bd3716236"
      },
      "execution_count": null,
      "outputs": [
        {
          "output_type": "stream",
          "name": "stdout",
          "text": [
            "Predicting for file: /content/net_audio/net_audio/violin/violin_F7_05_pianissimo_arco-normal.mp3\n",
            "Predicted instrument: violin\n"
          ]
        }
      ]
    },
    {
      "cell_type": "code",
      "source": [
        "X_train, X_test, y_train, y_test = train_test_split(X, y, test_size=0.2, random_state=42)\n",
        "print(\"Train shape:\", X_train.shape, \"Test shape:\", X_test.shape)\n"
      ],
      "metadata": {
        "colab": {
          "base_uri": "https://localhost:8080/"
        },
        "id": "yo1bT9xjwZ_0",
        "outputId": "ee2a970c-2505-4934-a242-a0fcffc2db0b"
      },
      "execution_count": null,
      "outputs": [
        {
          "output_type": "stream",
          "name": "stdout",
          "text": [
            "Train shape: (3183, 20) Test shape: (796, 20)\n"
          ]
        }
      ]
    },
    {
      "cell_type": "code",
      "source": [
        "import os\n",
        "import numpy as np\n",
        "import librosa\n",
        "import matplotlib.pyplot as plt\n",
        "import seaborn as sns\n",
        "\n",
        "from sklearn.model_selection import train_test_split\n",
        "from sklearn.preprocessing import LabelEncoder\n",
        "from tensorflow.keras.utils import to_categorical\n",
        "import tensorflow as tf\n",
        "from tensorflow.keras.models import Sequential\n",
        "from tensorflow.keras.layers import Conv1D, MaxPooling1D, LSTM, Dense, Dropout\n"
      ],
      "metadata": {
        "id": "PsNLnT54xebD"
      },
      "execution_count": null,
      "outputs": []
    },
    {
      "cell_type": "code",
      "source": [
        "def extract_feat(file_path, n_mfcc=20, max_pad_len=130):\n",
        "    try:\n",
        "        # Load audio file\n",
        "        audio, sr = librosa.load(file_path, sr=None)\n",
        "        # Compute MFCC (shape: [n_mfcc, time_steps])\n",
        "        mfcc = librosa.feature.mfcc(y=audio, sr=sr, n_mfcc=n_mfcc)\n",
        "        # Pad or truncate along the time axis\n",
        "        if mfcc.shape[1] < max_pad_len:\n",
        "            pad_width = max_pad_len - mfcc.shape[1]\n",
        "            mfcc = np.pad(mfcc, pad_width=((0, 0), (0, pad_width)), mode='constant')\n",
        "        else:\n",
        "            mfcc = mfcc[:, :max_pad_len]\n",
        "    except Exception as e:\n",
        "        print(\"Error processing {}: {}\".format(file_path, e))\n",
        "        return None\n",
        "    # Transpose so that each sample has shape (time_steps, n_mfcc)\n",
        "    return mfcc.T\n",
        "\n",
        "# Loop through files to extract features\n",
        "features = []\n",
        "valid_labels = []\n",
        "for f, lab in zip(audio_files, labels):\n",
        "    feat = extract_feat(f)\n",
        "    if feat is not None:\n",
        "        features.append(feat)\n",
        "        valid_labels.append(lab)\n",
        "\n",
        "# Convert list into numpy array: shape = (num_samples, time_steps, n_mfcc)\n",
        "X = np.array(features)\n",
        "print(\"Feature matrix shape:\", X.shape)\n",
        "\n"
      ],
      "metadata": {
        "colab": {
          "base_uri": "https://localhost:8080/"
        },
        "id": "lUtK0cuavv99",
        "outputId": "e66604db-cb04-49db-f21a-e05896923cc5"
      },
      "execution_count": null,
      "outputs": [
        {
          "output_type": "stream",
          "name": "stdout",
          "text": [
            "Feature matrix shape: (3979, 130, 20)\n"
          ]
        }
      ]
    },
    {
      "cell_type": "code",
      "source": [
        "le = LabelEncoder()\n",
        "y_int = le.fit_transform(valid_labels)\n",
        "print(\"Instrument classes:\", le.classes_)\n",
        "\n",
        "if len(le.classes_) != 4:\n",
        "    print(\"WARNING: Expected exactly 4 instrument classes but found {}.\".format(len(le.classes_)))\n",
        "\n",
        "# One-hot encode labels\n",
        "y = to_categorical(y_int, num_classes=len(le.classes_))\n"
      ],
      "metadata": {
        "colab": {
          "base_uri": "https://localhost:8080/"
        },
        "id": "qtRXFZg4xTUn",
        "outputId": "c01bbdb1-f0d7-4128-f2a0-b27bcb860cf5"
      },
      "execution_count": null,
      "outputs": [
        {
          "output_type": "stream",
          "name": "stdout",
          "text": [
            "Instrument classes: ['cello' 'contrabassoon' 'flute' 'violin']\n"
          ]
        }
      ]
    },
    {
      "cell_type": "code",
      "source": [
        "X_train, X_test, y_train, y_test = train_test_split(X, y, test_size=0.2, random_state=42)\n",
        "print(\"Train shape:\", X_train.shape, \"Test shape:\", X_test.shape)\n"
      ],
      "metadata": {
        "colab": {
          "base_uri": "https://localhost:8080/"
        },
        "id": "OYIbi-XZxoNo",
        "outputId": "9c66c72f-36fa-462f-8e9c-83ee63499d19"
      },
      "execution_count": null,
      "outputs": [
        {
          "output_type": "stream",
          "name": "stdout",
          "text": [
            "Train shape: (3183, 130, 20) Test shape: (796, 130, 20)\n"
          ]
        }
      ]
    },
    {
      "cell_type": "code",
      "source": [
        "# Define input shape based on our features: (time_steps, n_mfcc)\n",
        "time_steps, n_mfcc = X_train.shape[1], X_train.shape[2]\n",
        "num_classes = y_train.shape[1]\n",
        "\n",
        "model = Sequential()\n",
        "model.add(Conv1D(filters=64, kernel_size=3, activation='relu', input_shape=(time_steps, n_mfcc)))\n",
        "model.add(MaxPooling1D(pool_size=2))\n",
        "model.add(Dropout(0.3))\n",
        "model.add(LSTM(100))\n",
        "model.add(Dropout(0.3))\n",
        "model.add(Dense(50, activation='relu'))\n",
        "model.add(Dense(num_classes, activation='softmax'))\n",
        "\n",
        "model.compile(loss='categorical_crossentropy', optimizer='adam', metrics=['accuracy'])\n",
        "model.summary()\n"
      ],
      "metadata": {
        "colab": {
          "base_uri": "https://localhost:8080/",
          "height": 425
        },
        "id": "-CXCB-zTxpED",
        "outputId": "7b6c2eb1-0dc7-42e4-bcce-fc5d26233a85"
      },
      "execution_count": null,
      "outputs": [
        {
          "output_type": "stream",
          "name": "stderr",
          "text": [
            "/usr/local/lib/python3.11/dist-packages/keras/src/layers/convolutional/base_conv.py:107: UserWarning: Do not pass an `input_shape`/`input_dim` argument to a layer. When using Sequential models, prefer using an `Input(shape)` object as the first layer in the model instead.\n",
            "  super().__init__(activity_regularizer=activity_regularizer, **kwargs)\n"
          ]
        },
        {
          "output_type": "display_data",
          "data": {
            "text/plain": [
              "\u001b[1mModel: \"sequential\"\u001b[0m\n"
            ],
            "text/html": [
              "<pre style=\"white-space:pre;overflow-x:auto;line-height:normal;font-family:Menlo,'DejaVu Sans Mono',consolas,'Courier New',monospace\"><span style=\"font-weight: bold\">Model: \"sequential\"</span>\n",
              "</pre>\n"
            ]
          },
          "metadata": {}
        },
        {
          "output_type": "display_data",
          "data": {
            "text/plain": [
              "┏━━━━━━━━━━━━━━━━━━━━━━━━━━━━━━━━━━━━━━┳━━━━━━━━━━━━━━━━━━━━━━━━━━━━━┳━━━━━━━━━━━━━━━━━┓\n",
              "┃\u001b[1m \u001b[0m\u001b[1mLayer (type)                        \u001b[0m\u001b[1m \u001b[0m┃\u001b[1m \u001b[0m\u001b[1mOutput Shape               \u001b[0m\u001b[1m \u001b[0m┃\u001b[1m \u001b[0m\u001b[1m        Param #\u001b[0m\u001b[1m \u001b[0m┃\n",
              "┡━━━━━━━━━━━━━━━━━━━━━━━━━━━━━━━━━━━━━━╇━━━━━━━━━━━━━━━━━━━━━━━━━━━━━╇━━━━━━━━━━━━━━━━━┩\n",
              "│ conv1d (\u001b[38;5;33mConv1D\u001b[0m)                      │ (\u001b[38;5;45mNone\u001b[0m, \u001b[38;5;34m128\u001b[0m, \u001b[38;5;34m64\u001b[0m)             │           \u001b[38;5;34m3,904\u001b[0m │\n",
              "├──────────────────────────────────────┼─────────────────────────────┼─────────────────┤\n",
              "│ max_pooling1d (\u001b[38;5;33mMaxPooling1D\u001b[0m)         │ (\u001b[38;5;45mNone\u001b[0m, \u001b[38;5;34m64\u001b[0m, \u001b[38;5;34m64\u001b[0m)              │               \u001b[38;5;34m0\u001b[0m │\n",
              "├──────────────────────────────────────┼─────────────────────────────┼─────────────────┤\n",
              "│ dropout (\u001b[38;5;33mDropout\u001b[0m)                    │ (\u001b[38;5;45mNone\u001b[0m, \u001b[38;5;34m64\u001b[0m, \u001b[38;5;34m64\u001b[0m)              │               \u001b[38;5;34m0\u001b[0m │\n",
              "├──────────────────────────────────────┼─────────────────────────────┼─────────────────┤\n",
              "│ lstm (\u001b[38;5;33mLSTM\u001b[0m)                          │ (\u001b[38;5;45mNone\u001b[0m, \u001b[38;5;34m100\u001b[0m)                 │          \u001b[38;5;34m66,000\u001b[0m │\n",
              "├──────────────────────────────────────┼─────────────────────────────┼─────────────────┤\n",
              "│ dropout_1 (\u001b[38;5;33mDropout\u001b[0m)                  │ (\u001b[38;5;45mNone\u001b[0m, \u001b[38;5;34m100\u001b[0m)                 │               \u001b[38;5;34m0\u001b[0m │\n",
              "├──────────────────────────────────────┼─────────────────────────────┼─────────────────┤\n",
              "│ dense (\u001b[38;5;33mDense\u001b[0m)                        │ (\u001b[38;5;45mNone\u001b[0m, \u001b[38;5;34m50\u001b[0m)                  │           \u001b[38;5;34m5,050\u001b[0m │\n",
              "├──────────────────────────────────────┼─────────────────────────────┼─────────────────┤\n",
              "│ dense_1 (\u001b[38;5;33mDense\u001b[0m)                      │ (\u001b[38;5;45mNone\u001b[0m, \u001b[38;5;34m4\u001b[0m)                   │             \u001b[38;5;34m204\u001b[0m │\n",
              "└──────────────────────────────────────┴─────────────────────────────┴─────────────────┘\n"
            ],
            "text/html": [
              "<pre style=\"white-space:pre;overflow-x:auto;line-height:normal;font-family:Menlo,'DejaVu Sans Mono',consolas,'Courier New',monospace\">┏━━━━━━━━━━━━━━━━━━━━━━━━━━━━━━━━━━━━━━┳━━━━━━━━━━━━━━━━━━━━━━━━━━━━━┳━━━━━━━━━━━━━━━━━┓\n",
              "┃<span style=\"font-weight: bold\"> Layer (type)                         </span>┃<span style=\"font-weight: bold\"> Output Shape                </span>┃<span style=\"font-weight: bold\">         Param # </span>┃\n",
              "┡━━━━━━━━━━━━━━━━━━━━━━━━━━━━━━━━━━━━━━╇━━━━━━━━━━━━━━━━━━━━━━━━━━━━━╇━━━━━━━━━━━━━━━━━┩\n",
              "│ conv1d (<span style=\"color: #0087ff; text-decoration-color: #0087ff\">Conv1D</span>)                      │ (<span style=\"color: #00d7ff; text-decoration-color: #00d7ff\">None</span>, <span style=\"color: #00af00; text-decoration-color: #00af00\">128</span>, <span style=\"color: #00af00; text-decoration-color: #00af00\">64</span>)             │           <span style=\"color: #00af00; text-decoration-color: #00af00\">3,904</span> │\n",
              "├──────────────────────────────────────┼─────────────────────────────┼─────────────────┤\n",
              "│ max_pooling1d (<span style=\"color: #0087ff; text-decoration-color: #0087ff\">MaxPooling1D</span>)         │ (<span style=\"color: #00d7ff; text-decoration-color: #00d7ff\">None</span>, <span style=\"color: #00af00; text-decoration-color: #00af00\">64</span>, <span style=\"color: #00af00; text-decoration-color: #00af00\">64</span>)              │               <span style=\"color: #00af00; text-decoration-color: #00af00\">0</span> │\n",
              "├──────────────────────────────────────┼─────────────────────────────┼─────────────────┤\n",
              "│ dropout (<span style=\"color: #0087ff; text-decoration-color: #0087ff\">Dropout</span>)                    │ (<span style=\"color: #00d7ff; text-decoration-color: #00d7ff\">None</span>, <span style=\"color: #00af00; text-decoration-color: #00af00\">64</span>, <span style=\"color: #00af00; text-decoration-color: #00af00\">64</span>)              │               <span style=\"color: #00af00; text-decoration-color: #00af00\">0</span> │\n",
              "├──────────────────────────────────────┼─────────────────────────────┼─────────────────┤\n",
              "│ lstm (<span style=\"color: #0087ff; text-decoration-color: #0087ff\">LSTM</span>)                          │ (<span style=\"color: #00d7ff; text-decoration-color: #00d7ff\">None</span>, <span style=\"color: #00af00; text-decoration-color: #00af00\">100</span>)                 │          <span style=\"color: #00af00; text-decoration-color: #00af00\">66,000</span> │\n",
              "├──────────────────────────────────────┼─────────────────────────────┼─────────────────┤\n",
              "│ dropout_1 (<span style=\"color: #0087ff; text-decoration-color: #0087ff\">Dropout</span>)                  │ (<span style=\"color: #00d7ff; text-decoration-color: #00d7ff\">None</span>, <span style=\"color: #00af00; text-decoration-color: #00af00\">100</span>)                 │               <span style=\"color: #00af00; text-decoration-color: #00af00\">0</span> │\n",
              "├──────────────────────────────────────┼─────────────────────────────┼─────────────────┤\n",
              "│ dense (<span style=\"color: #0087ff; text-decoration-color: #0087ff\">Dense</span>)                        │ (<span style=\"color: #00d7ff; text-decoration-color: #00d7ff\">None</span>, <span style=\"color: #00af00; text-decoration-color: #00af00\">50</span>)                  │           <span style=\"color: #00af00; text-decoration-color: #00af00\">5,050</span> │\n",
              "├──────────────────────────────────────┼─────────────────────────────┼─────────────────┤\n",
              "│ dense_1 (<span style=\"color: #0087ff; text-decoration-color: #0087ff\">Dense</span>)                      │ (<span style=\"color: #00d7ff; text-decoration-color: #00d7ff\">None</span>, <span style=\"color: #00af00; text-decoration-color: #00af00\">4</span>)                   │             <span style=\"color: #00af00; text-decoration-color: #00af00\">204</span> │\n",
              "└──────────────────────────────────────┴─────────────────────────────┴─────────────────┘\n",
              "</pre>\n"
            ]
          },
          "metadata": {}
        },
        {
          "output_type": "display_data",
          "data": {
            "text/plain": [
              "\u001b[1m Total params: \u001b[0m\u001b[38;5;34m75,158\u001b[0m (293.59 KB)\n"
            ],
            "text/html": [
              "<pre style=\"white-space:pre;overflow-x:auto;line-height:normal;font-family:Menlo,'DejaVu Sans Mono',consolas,'Courier New',monospace\"><span style=\"font-weight: bold\"> Total params: </span><span style=\"color: #00af00; text-decoration-color: #00af00\">75,158</span> (293.59 KB)\n",
              "</pre>\n"
            ]
          },
          "metadata": {}
        },
        {
          "output_type": "display_data",
          "data": {
            "text/plain": [
              "\u001b[1m Trainable params: \u001b[0m\u001b[38;5;34m75,158\u001b[0m (293.59 KB)\n"
            ],
            "text/html": [
              "<pre style=\"white-space:pre;overflow-x:auto;line-height:normal;font-family:Menlo,'DejaVu Sans Mono',consolas,'Courier New',monospace\"><span style=\"font-weight: bold\"> Trainable params: </span><span style=\"color: #00af00; text-decoration-color: #00af00\">75,158</span> (293.59 KB)\n",
              "</pre>\n"
            ]
          },
          "metadata": {}
        },
        {
          "output_type": "display_data",
          "data": {
            "text/plain": [
              "\u001b[1m Non-trainable params: \u001b[0m\u001b[38;5;34m0\u001b[0m (0.00 B)\n"
            ],
            "text/html": [
              "<pre style=\"white-space:pre;overflow-x:auto;line-height:normal;font-family:Menlo,'DejaVu Sans Mono',consolas,'Courier New',monospace\"><span style=\"font-weight: bold\"> Non-trainable params: </span><span style=\"color: #00af00; text-decoration-color: #00af00\">0</span> (0.00 B)\n",
              "</pre>\n"
            ]
          },
          "metadata": {}
        }
      ]
    },
    {
      "cell_type": "code",
      "source": [
        "history = model.fit(X_train, y_train, epochs=50, batch_size=16, validation_split=0.2)\n"
      ],
      "metadata": {
        "colab": {
          "base_uri": "https://localhost:8080/"
        },
        "id": "i-z1VmIKxsEs",
        "outputId": "68d9b547-32b7-4c15-e67c-c43e47da3ee3"
      },
      "execution_count": null,
      "outputs": [
        {
          "output_type": "stream",
          "name": "stdout",
          "text": [
            "Epoch 1/50\n",
            "\u001b[1m160/160\u001b[0m \u001b[32m━━━━━━━━━━━━━━━━━━━━\u001b[0m\u001b[37m\u001b[0m \u001b[1m11s\u001b[0m 42ms/step - accuracy: 0.3631 - loss: 1.3039 - val_accuracy: 0.5808 - val_loss: 0.9804\n",
            "Epoch 2/50\n",
            "\u001b[1m160/160\u001b[0m \u001b[32m━━━━━━━━━━━━━━━━━━━━\u001b[0m\u001b[37m\u001b[0m \u001b[1m12s\u001b[0m 53ms/step - accuracy: 0.5724 - loss: 0.9818 - val_accuracy: 0.6484 - val_loss: 0.8171\n",
            "Epoch 3/50\n",
            "\u001b[1m160/160\u001b[0m \u001b[32m━━━━━━━━━━━━━━━━━━━━\u001b[0m\u001b[37m\u001b[0m \u001b[1m9s\u001b[0m 47ms/step - accuracy: 0.6145 - loss: 0.8369 - val_accuracy: 0.6531 - val_loss: 0.8018\n",
            "Epoch 4/50\n",
            "\u001b[1m160/160\u001b[0m \u001b[32m━━━━━━━━━━━━━━━━━━━━\u001b[0m\u001b[37m\u001b[0m \u001b[1m11s\u001b[0m 48ms/step - accuracy: 0.6589 - loss: 0.7759 - val_accuracy: 0.7488 - val_loss: 0.6659\n",
            "Epoch 5/50\n",
            "\u001b[1m160/160\u001b[0m \u001b[32m━━━━━━━━━━━━━━━━━━━━\u001b[0m\u001b[37m\u001b[0m \u001b[1m10s\u001b[0m 46ms/step - accuracy: 0.7321 - loss: 0.6540 - val_accuracy: 0.8053 - val_loss: 0.5151\n",
            "Epoch 6/50\n",
            "\u001b[1m160/160\u001b[0m \u001b[32m━━━━━━━━━━━━━━━━━━━━\u001b[0m\u001b[37m\u001b[0m \u001b[1m7s\u001b[0m 43ms/step - accuracy: 0.7867 - loss: 0.5492 - val_accuracy: 0.7975 - val_loss: 0.5705\n",
            "Epoch 7/50\n",
            "\u001b[1m160/160\u001b[0m \u001b[32m━━━━━━━━━━━━━━━━━━━━\u001b[0m\u001b[37m\u001b[0m \u001b[1m8s\u001b[0m 51ms/step - accuracy: 0.7785 - loss: 0.5801 - val_accuracy: 0.8681 - val_loss: 0.3976\n",
            "Epoch 8/50\n",
            "\u001b[1m160/160\u001b[0m \u001b[32m━━━━━━━━━━━━━━━━━━━━\u001b[0m\u001b[37m\u001b[0m \u001b[1m10s\u001b[0m 64ms/step - accuracy: 0.8554 - loss: 0.4308 - val_accuracy: 0.8336 - val_loss: 0.4174\n",
            "Epoch 9/50\n",
            "\u001b[1m160/160\u001b[0m \u001b[32m━━━━━━━━━━━━━━━━━━━━\u001b[0m\u001b[37m\u001b[0m \u001b[1m7s\u001b[0m 41ms/step - accuracy: 0.8794 - loss: 0.3277 - val_accuracy: 0.9137 - val_loss: 0.2994\n",
            "Epoch 10/50\n",
            "\u001b[1m160/160\u001b[0m \u001b[32m━━━━━━━━━━━━━━━━━━━━\u001b[0m\u001b[37m\u001b[0m \u001b[1m12s\u001b[0m 54ms/step - accuracy: 0.9177 - loss: 0.2661 - val_accuracy: 0.9451 - val_loss: 0.1792\n",
            "Epoch 11/50\n",
            "\u001b[1m160/160\u001b[0m \u001b[32m━━━━━━━━━━━━━━━━━━━━\u001b[0m\u001b[37m\u001b[0m \u001b[1m7s\u001b[0m 46ms/step - accuracy: 0.9272 - loss: 0.2186 - val_accuracy: 0.9278 - val_loss: 0.1881\n",
            "Epoch 12/50\n",
            "\u001b[1m160/160\u001b[0m \u001b[32m━━━━━━━━━━━━━━━━━━━━\u001b[0m\u001b[37m\u001b[0m \u001b[1m8s\u001b[0m 50ms/step - accuracy: 0.9315 - loss: 0.2189 - val_accuracy: 0.9388 - val_loss: 0.1939\n",
            "Epoch 13/50\n",
            "\u001b[1m160/160\u001b[0m \u001b[32m━━━━━━━━━━━━━━━━━━━━\u001b[0m\u001b[37m\u001b[0m \u001b[1m6s\u001b[0m 40ms/step - accuracy: 0.9434 - loss: 0.1798 - val_accuracy: 0.9513 - val_loss: 0.1491\n",
            "Epoch 14/50\n",
            "\u001b[1m160/160\u001b[0m \u001b[32m━━━━━━━━━━━━━━━━━━━━\u001b[0m\u001b[37m\u001b[0m \u001b[1m10s\u001b[0m 39ms/step - accuracy: 0.9494 - loss: 0.1493 - val_accuracy: 0.9545 - val_loss: 0.1360\n",
            "Epoch 15/50\n",
            "\u001b[1m160/160\u001b[0m \u001b[32m━━━━━━━━━━━━━━━━━━━━\u001b[0m\u001b[37m\u001b[0m \u001b[1m11s\u001b[0m 45ms/step - accuracy: 0.9271 - loss: 0.2131 - val_accuracy: 0.9435 - val_loss: 0.1760\n",
            "Epoch 16/50\n",
            "\u001b[1m160/160\u001b[0m \u001b[32m━━━━━━━━━━━━━━━━━━━━\u001b[0m\u001b[37m\u001b[0m \u001b[1m7s\u001b[0m 43ms/step - accuracy: 0.9515 - loss: 0.1598 - val_accuracy: 0.9749 - val_loss: 0.0983\n",
            "Epoch 17/50\n",
            "\u001b[1m160/160\u001b[0m \u001b[32m━━━━━━━━━━━━━━━━━━━━\u001b[0m\u001b[37m\u001b[0m \u001b[1m8s\u001b[0m 47ms/step - accuracy: 0.9706 - loss: 0.0982 - val_accuracy: 0.9388 - val_loss: 0.1997\n",
            "Epoch 18/50\n",
            "\u001b[1m160/160\u001b[0m \u001b[32m━━━━━━━━━━━━━━━━━━━━\u001b[0m\u001b[37m\u001b[0m \u001b[1m11s\u001b[0m 53ms/step - accuracy: 0.9703 - loss: 0.1060 - val_accuracy: 0.9513 - val_loss: 0.1539\n",
            "Epoch 19/50\n",
            "\u001b[1m160/160\u001b[0m \u001b[32m━━━━━━━━━━━━━━━━━━━━\u001b[0m\u001b[37m\u001b[0m \u001b[1m6s\u001b[0m 40ms/step - accuracy: 0.9755 - loss: 0.0856 - val_accuracy: 0.9121 - val_loss: 0.2400\n",
            "Epoch 20/50\n",
            "\u001b[1m160/160\u001b[0m \u001b[32m━━━━━━━━━━━━━━━━━━━━\u001b[0m\u001b[37m\u001b[0m \u001b[1m8s\u001b[0m 52ms/step - accuracy: 0.9647 - loss: 0.0982 - val_accuracy: 0.9608 - val_loss: 0.1013\n",
            "Epoch 21/50\n",
            "\u001b[1m160/160\u001b[0m \u001b[32m━━━━━━━━━━━━━━━━━━━━\u001b[0m\u001b[37m\u001b[0m \u001b[1m6s\u001b[0m 39ms/step - accuracy: 0.9589 - loss: 0.1418 - val_accuracy: 0.9812 - val_loss: 0.0662\n",
            "Epoch 22/50\n",
            "\u001b[1m160/160\u001b[0m \u001b[32m━━━━━━━━━━━━━━━━━━━━\u001b[0m\u001b[37m\u001b[0m \u001b[1m12s\u001b[0m 51ms/step - accuracy: 0.9801 - loss: 0.0596 - val_accuracy: 0.9702 - val_loss: 0.0919\n",
            "Epoch 23/50\n",
            "\u001b[1m160/160\u001b[0m \u001b[32m━━━━━━━━━━━━━━━━━━━━\u001b[0m\u001b[37m\u001b[0m \u001b[1m6s\u001b[0m 39ms/step - accuracy: 0.9838 - loss: 0.0498 - val_accuracy: 0.9733 - val_loss: 0.0714\n",
            "Epoch 24/50\n",
            "\u001b[1m160/160\u001b[0m \u001b[32m━━━━━━━━━━━━━━━━━━━━\u001b[0m\u001b[37m\u001b[0m \u001b[1m10s\u001b[0m 39ms/step - accuracy: 0.9761 - loss: 0.0610 - val_accuracy: 0.9686 - val_loss: 0.1274\n",
            "Epoch 25/50\n",
            "\u001b[1m160/160\u001b[0m \u001b[32m━━━━━━━━━━━━━━━━━━━━\u001b[0m\u001b[37m\u001b[0m \u001b[1m12s\u001b[0m 48ms/step - accuracy: 0.9671 - loss: 0.1239 - val_accuracy: 0.9874 - val_loss: 0.0464\n",
            "Epoch 26/50\n",
            "\u001b[1m160/160\u001b[0m \u001b[32m━━━━━━━━━━━━━━━━━━━━\u001b[0m\u001b[37m\u001b[0m \u001b[1m11s\u001b[0m 54ms/step - accuracy: 0.9828 - loss: 0.0550 - val_accuracy: 0.9686 - val_loss: 0.1001\n",
            "Epoch 27/50\n",
            "\u001b[1m160/160\u001b[0m \u001b[32m━━━━━━━━━━━━━━━━━━━━\u001b[0m\u001b[37m\u001b[0m \u001b[1m6s\u001b[0m 40ms/step - accuracy: 0.9683 - loss: 0.0943 - val_accuracy: 0.9859 - val_loss: 0.0543\n",
            "Epoch 28/50\n",
            "\u001b[1m160/160\u001b[0m \u001b[32m━━━━━━━━━━━━━━━━━━━━\u001b[0m\u001b[37m\u001b[0m \u001b[1m8s\u001b[0m 52ms/step - accuracy: 0.9833 - loss: 0.0494 - val_accuracy: 0.9812 - val_loss: 0.0527\n",
            "Epoch 29/50\n",
            "\u001b[1m160/160\u001b[0m \u001b[32m━━━━━━━━━━━━━━━━━━━━\u001b[0m\u001b[37m\u001b[0m \u001b[1m8s\u001b[0m 40ms/step - accuracy: 0.9846 - loss: 0.0470 - val_accuracy: 0.9874 - val_loss: 0.0385\n",
            "Epoch 30/50\n",
            "\u001b[1m160/160\u001b[0m \u001b[32m━━━━━━━━━━━━━━━━━━━━\u001b[0m\u001b[37m\u001b[0m \u001b[1m10s\u001b[0m 41ms/step - accuracy: 0.9826 - loss: 0.0585 - val_accuracy: 0.9874 - val_loss: 0.0401\n",
            "Epoch 31/50\n",
            "\u001b[1m160/160\u001b[0m \u001b[32m━━━━━━━━━━━━━━━━━━━━\u001b[0m\u001b[37m\u001b[0m \u001b[1m9s\u001b[0m 58ms/step - accuracy: 0.9877 - loss: 0.0458 - val_accuracy: 0.9827 - val_loss: 0.0539\n",
            "Epoch 32/50\n",
            "\u001b[1m160/160\u001b[0m \u001b[32m━━━━━━━━━━━━━━━━━━━━\u001b[0m\u001b[37m\u001b[0m \u001b[1m7s\u001b[0m 46ms/step - accuracy: 0.9846 - loss: 0.0529 - val_accuracy: 0.9843 - val_loss: 0.0561\n",
            "Epoch 33/50\n",
            "\u001b[1m160/160\u001b[0m \u001b[32m━━━━━━━━━━━━━━━━━━━━\u001b[0m\u001b[37m\u001b[0m \u001b[1m11s\u001b[0m 54ms/step - accuracy: 0.9883 - loss: 0.0453 - val_accuracy: 0.9560 - val_loss: 0.1212\n",
            "Epoch 34/50\n",
            "\u001b[1m160/160\u001b[0m \u001b[32m━━━━━━━━━━━━━━━━━━━━\u001b[0m\u001b[37m\u001b[0m \u001b[1m6s\u001b[0m 39ms/step - accuracy: 0.9846 - loss: 0.0690 - val_accuracy: 0.9780 - val_loss: 0.0830\n",
            "Epoch 35/50\n",
            "\u001b[1m160/160\u001b[0m \u001b[32m━━━━━━━━━━━━━━━━━━━━\u001b[0m\u001b[37m\u001b[0m \u001b[1m9s\u001b[0m 55ms/step - accuracy: 0.9823 - loss: 0.0554 - val_accuracy: 0.9702 - val_loss: 0.1191\n",
            "Epoch 36/50\n",
            "\u001b[1m160/160\u001b[0m \u001b[32m━━━━━━━━━━━━━━━━━━━━\u001b[0m\u001b[37m\u001b[0m \u001b[1m8s\u001b[0m 39ms/step - accuracy: 0.9688 - loss: 0.0942 - val_accuracy: 0.9859 - val_loss: 0.0480\n",
            "Epoch 37/50\n",
            "\u001b[1m160/160\u001b[0m \u001b[32m━━━━━━━━━━━━━━━━━━━━\u001b[0m\u001b[37m\u001b[0m \u001b[1m9s\u001b[0m 54ms/step - accuracy: 0.9859 - loss: 0.0604 - val_accuracy: 0.9827 - val_loss: 0.0604\n",
            "Epoch 38/50\n",
            "\u001b[1m160/160\u001b[0m \u001b[32m━━━━━━━━━━━━━━━━━━━━\u001b[0m\u001b[37m\u001b[0m \u001b[1m6s\u001b[0m 39ms/step - accuracy: 0.9932 - loss: 0.0296 - val_accuracy: 0.9843 - val_loss: 0.0576\n",
            "Epoch 39/50\n",
            "\u001b[1m160/160\u001b[0m \u001b[32m━━━━━━━━━━━━━━━━━━━━\u001b[0m\u001b[37m\u001b[0m \u001b[1m9s\u001b[0m 54ms/step - accuracy: 0.9854 - loss: 0.0502 - val_accuracy: 0.9702 - val_loss: 0.0707\n",
            "Epoch 40/50\n",
            "\u001b[1m160/160\u001b[0m \u001b[32m━━━━━━━━━━━━━━━━━━━━\u001b[0m\u001b[37m\u001b[0m \u001b[1m6s\u001b[0m 40ms/step - accuracy: 0.9788 - loss: 0.0577 - val_accuracy: 0.9812 - val_loss: 0.0622\n",
            "Epoch 41/50\n",
            "\u001b[1m160/160\u001b[0m \u001b[32m━━━━━━━━━━━━━━━━━━━━\u001b[0m\u001b[37m\u001b[0m \u001b[1m9s\u001b[0m 55ms/step - accuracy: 0.9845 - loss: 0.0498 - val_accuracy: 0.9592 - val_loss: 0.0916\n",
            "Epoch 42/50\n",
            "\u001b[1m160/160\u001b[0m \u001b[32m━━━━━━━━━━━━━━━━━━━━\u001b[0m\u001b[37m\u001b[0m \u001b[1m6s\u001b[0m 39ms/step - accuracy: 0.9754 - loss: 0.0701 - val_accuracy: 0.9827 - val_loss: 0.0432\n",
            "Epoch 43/50\n",
            "\u001b[1m160/160\u001b[0m \u001b[32m━━━━━━━━━━━━━━━━━━━━\u001b[0m\u001b[37m\u001b[0m \u001b[1m11s\u001b[0m 43ms/step - accuracy: 0.9922 - loss: 0.0277 - val_accuracy: 0.9874 - val_loss: 0.0386\n",
            "Epoch 44/50\n",
            "\u001b[1m160/160\u001b[0m \u001b[32m━━━━━━━━━━━━━━━━━━━━\u001b[0m\u001b[37m\u001b[0m \u001b[1m7s\u001b[0m 46ms/step - accuracy: 0.9862 - loss: 0.0477 - val_accuracy: 0.9890 - val_loss: 0.0225\n",
            "Epoch 45/50\n",
            "\u001b[1m160/160\u001b[0m \u001b[32m━━━━━━━━━━━━━━━━━━━━\u001b[0m\u001b[37m\u001b[0m \u001b[1m9s\u001b[0m 40ms/step - accuracy: 0.9910 - loss: 0.0230 - val_accuracy: 0.9906 - val_loss: 0.0309\n",
            "Epoch 46/50\n",
            "\u001b[1m160/160\u001b[0m \u001b[32m━━━━━━━━━━━━━━━━━━━━\u001b[0m\u001b[37m\u001b[0m \u001b[1m11s\u001b[0m 45ms/step - accuracy: 0.9898 - loss: 0.0306 - val_accuracy: 0.9592 - val_loss: 0.1012\n",
            "Epoch 47/50\n",
            "\u001b[1m160/160\u001b[0m \u001b[32m━━━━━━━━━━━━━━━━━━━━\u001b[0m\u001b[37m\u001b[0m \u001b[1m12s\u001b[0m 54ms/step - accuracy: 0.9759 - loss: 0.0919 - val_accuracy: 0.9765 - val_loss: 0.0491\n",
            "Epoch 48/50\n",
            "\u001b[1m160/160\u001b[0m \u001b[32m━━━━━━━━━━━━━━━━━━━━\u001b[0m\u001b[37m\u001b[0m \u001b[1m8s\u001b[0m 39ms/step - accuracy: 0.9864 - loss: 0.0457 - val_accuracy: 0.9874 - val_loss: 0.0291\n",
            "Epoch 49/50\n",
            "\u001b[1m160/160\u001b[0m \u001b[32m━━━━━━━━━━━━━━━━━━━━\u001b[0m\u001b[37m\u001b[0m \u001b[1m8s\u001b[0m 52ms/step - accuracy: 0.9864 - loss: 0.0378 - val_accuracy: 0.9702 - val_loss: 0.0767\n",
            "Epoch 50/50\n",
            "\u001b[1m160/160\u001b[0m \u001b[32m━━━━━━━━━━━━━━━━━━━━\u001b[0m\u001b[37m\u001b[0m \u001b[1m6s\u001b[0m 40ms/step - accuracy: 0.9916 - loss: 0.0357 - val_accuracy: 0.9749 - val_loss: 0.0637\n"
          ]
        }
      ]
    },
    {
      "cell_type": "code",
      "source": [
        "test_loss, test_acc = model.evaluate(X_test, y_test)\n",
        "print(\"Test Accuracy: {:.2f}%\".format(test_acc * 100))"
      ],
      "metadata": {
        "colab": {
          "base_uri": "https://localhost:8080/"
        },
        "id": "KR5u6Jmlzndt",
        "outputId": "9d64605e-6e96-4652-d0f9-cb0af51c31a6"
      },
      "execution_count": null,
      "outputs": [
        {
          "output_type": "stream",
          "name": "stdout",
          "text": [
            "\u001b[1m25/25\u001b[0m \u001b[32m━━━━━━━━━━━━━━━━━━━━\u001b[0m\u001b[37m\u001b[0m \u001b[1m1s\u001b[0m 38ms/step - accuracy: 0.9800 - loss: 0.0554\n",
            "Test Accuracy: 98.12%\n"
          ]
        }
      ]
    },
    {
      "cell_type": "code",
      "source": [
        "plt.figure(figsize=(12,5))\n",
        "\n",
        "plt.subplot(1,2,1)\n",
        "plt.plot(history.history['accuracy'], label='Train acc')\n",
        "plt.plot(history.history['val_accuracy'], label='Val acc')\n",
        "plt.xlabel('Epoch')\n",
        "plt.ylabel('Accuracy')\n",
        "plt.title('Accuracy')\n",
        "plt.legend()\n",
        "\n",
        "plt.subplot(1,2,2)\n",
        "plt.plot(history.history['loss'], label='Train loss')\n",
        "plt.plot(history.history['val_loss'], label='Val loss')\n",
        "plt.xlabel('Epoch')\n",
        "plt.ylabel('Loss')\n",
        "plt.title('Loss')\n",
        "plt.legend()\n",
        "\n",
        "plt.show()\n"
      ],
      "metadata": {
        "colab": {
          "base_uri": "https://localhost:8080/",
          "height": 320
        },
        "id": "CFZC2k7WzsqX",
        "outputId": "a3fdcfde-c886-45ce-80e7-d9eff33ac83c"
      },
      "execution_count": null,
      "outputs": [
        {
          "output_type": "display_data",
          "data": {
            "text/plain": [
              "<Figure size 1200x500 with 2 Axes>"
            ],
            "image/png": "[encoded data removed]"
          },
          "metadata": {}
        }
      ]
    },
    {
      "cell_type": "code",
      "source": [
        "print(\"Shape of extracted feature:\", feat.shape)\n"
      ],
      "metadata": {
        "colab": {
          "base_uri": "https://localhost:8080/"
        },
        "id": "6Zp2fWhyz78t",
        "outputId": "04aef220-a077-436d-e31d-b8f94760d265"
      },
      "execution_count": null,
      "outputs": [
        {
          "output_type": "stream",
          "name": "stdout",
          "text": [
            "Shape of extracted feature: (1, 20)\n"
          ]
        }
      ]
    },
    {
      "cell_type": "code",
      "source": [
        "# Choose a sample from the audio file list\n",
        "sample_path = audio_files[0]\n",
        "print(\"Predicting for file:\", sample_path)\n",
        "\n",
        "feat = extract_feat(sample_path)\n",
        "if feat is not None:\n",
        "    feat = feat[np.newaxis, ...]  # Reshape to (1, time_steps, n_mfcc)\n",
        "    prediction = model.predict(feat)\n",
        "    predicted_class = np.argmax(prediction, axis=1)\n",
        "    predicted_label = le.inverse_transform(predicted_class)\n",
        "    print(\"Predicted instrument:\", predicted_label[0])\n"
      ],
      "metadata": {
        "colab": {
          "base_uri": "https://localhost:8080/"
        },
        "id": "XfxeJw_VzzUG",
        "outputId": "5f911931-e122-4eff-d742-3cadcf2a323b"
      },
      "execution_count": null,
      "outputs": [
        {
          "output_type": "stream",
          "name": "stdout",
          "text": [
            "Predicting for file: /content/net_audio/net_audio/violin/violin_F7_05_pianissimo_arco-normal.mp3\n",
            "\u001b[1m1/1\u001b[0m \u001b[32m━━━━━━━━━━━━━━━━━━━━\u001b[0m\u001b[37m\u001b[0m \u001b[1m18s\u001b[0m 18s/step\n",
            "Predicted instrument: violin\n"
          ]
        }
      ]
    },
    {
      "cell_type": "markdown",
      "source": [
        "**Utilizing pretrained models like VGG16 and EfficientNetB1, which have been trained on large datasets (e.g., ImageNet), and fine-tuning them on our Dataset**"
      ],
      "metadata": {
        "id": "HSeafmBaI7EH"
      }
    },
    {
      "cell_type": "code",
      "source": [
        "import os\n",
        "import numpy as np\n",
        "import pandas as pd\n",
        "import librosa\n",
        "import torch\n",
        "import torch.nn as nn\n",
        "import torch.optim as optim\n",
        "import matplotlib.pyplot as plt\n",
        "import seaborn as sns\n",
        "from concurrent.futures import ThreadPoolExecutor\n",
        "from collections import Counter\n",
        "from sklearn.model_selection import train_test_split\n",
        "from sklearn.preprocessing import LabelEncoder\n",
        "from sklearn.metrics import confusion_matrix\n",
        "from torchvision.models import vgg16, VGG16_Weights, efficientnet_b1, EfficientNet_B1_Weights\n",
        "from torchvision import transforms, datasets\n",
        "from torch.utils.data import DataLoader, Dataset, TensorDataset\n",
        "from torch.optim import Adam"
      ],
      "metadata": {
        "id": "otVfTx1kI-5h"
      },
      "execution_count": null,
      "outputs": []
    },
    {
      "cell_type": "code",
      "source": [
        "def generate_features(y_in, sr=28000, n_mels=128, fixed_length=128):\n",
        "    y,_=librosa.load(y_in,sr=sr)\n",
        "    # Compute Mel Spectrogram\n",
        "    mel_spec = librosa.feature.melspectrogram(y=y, sr=sr, n_mels=n_mels)\n",
        "    # Convert to Log Scale (dB)\n",
        "    mel_spec_db = librosa.power_to_db(mel_spec, ref=np.max)\n",
        "    # Fix length to ensure uniform shape\n",
        "    return librosa.util.fix_length(mel_spec_db, size=fixed_length, axis=1)"
      ],
      "metadata": {
        "id": "UyUXWVi1JBvt"
      },
      "execution_count": null,
      "outputs": []
    },
    {
      "cell_type": "code",
      "source": [
        "X=[]\n",
        "y=[]\n",
        "audio_folder = '/content/net_audio'\n",
        "# Loop through each subfolder (instrument class).\n",
        "for instrument in os.listdir(audio_folder):\n",
        "    subfolder = os.path.join(audio_folder, instrument)\n",
        "    print(subfolder)\n",
        "    for f in os.listdir(subfolder):\n",
        "        data=os.path.join(subfolder,f)\n",
        "        for filename in os.listdir(data):\n",
        "            if filename.endswith('.mp3'):\n",
        "                file_path = os.path.join(data, filename)\n",
        "                X.append(generate_features(file_path))\n",
        "                y.append(f)"
      ],
      "metadata": {
        "colab": {
          "base_uri": "https://localhost:8080/"
        },
        "id": "8HuiMjavJFhS",
        "outputId": "32035243-ff8c-4900-fda9-1046b1c13bd0"
      },
      "execution_count": null,
      "outputs": [
        {
          "output_type": "stream",
          "name": "stdout",
          "text": [
            "/content/net_audio/net_audio\n"
          ]
        }
      ]
    },
    {
      "cell_type": "code",
      "source": [
        "le = LabelEncoder()\n",
        "y_label = le.fit_transform(y)"
      ],
      "metadata": {
        "id": "NdndIl6IJJ1A"
      },
      "execution_count": null,
      "outputs": []
    },
    {
      "cell_type": "code",
      "source": [
        "class_counts = Counter(y_label)\n",
        "class_names = le.classes_  # Get the class names\n",
        "# Print class distribution\n",
        "print(\"Class Distribution:\", dict(zip(class_names, class_counts.values())))\n",
        "# Visualize class distribution\n",
        "plt.bar(class_names, class_counts.values(), color='skyblue')\n",
        "plt.xticks(rotation=45, ha=\"right\")  # Rotate labels to avoid overlap\n",
        "plt.xlabel(\"Class\")\n",
        "plt.ylabel(\"Count\")\n",
        "plt.title(\"Class Distribution\")\n",
        "plt.show()"
      ],
      "metadata": {
        "colab": {
          "base_uri": "https://localhost:8080/",
          "height": 557
        },
        "id": "iP9H4gjGJMBz",
        "outputId": "5ea3380e-065a-47e0-ce48-6e539b4de03d"
      },
      "execution_count": null,
      "outputs": [
        {
          "output_type": "stream",
          "name": "stdout",
          "text": [
            "Class Distribution: {'cello': 1502, 'contrabassoon': 710, 'flute': 889, 'violin': 878}\n"
          ]
        },
        {
          "output_type": "display_data",
          "data": {
            "text/plain": [
              "<Figure size 640x480 with 1 Axes>"
            ],
            "image/png": "[encoded data removed]"
          },
          "metadata": {}
        }
      ]
    },
    {
      "cell_type": "code",
      "source": [
        "# Convert to PyTorch tensors\n",
        "device = torch.device(\"cuda\" if torch.cuda.is_available() else \"cpu\")\n",
        "X_train = torch.tensor(X, dtype=torch.float32)\n",
        "y_train = torch.tensor(y_label, dtype=torch.long)\n",
        "X_train = X_train.to(device)\n",
        "y_train = y_train.to(device)"
      ],
      "metadata": {
        "colab": {
          "base_uri": "https://localhost:8080/"
        },
        "id": "o81qRi0yJMrU",
        "outputId": "2d806717-60f9-4cf2-e6b0-d1b6ab17da5f"
      },
      "execution_count": null,
      "outputs": [
        {
          "output_type": "stream",
          "name": "stderr",
          "text": [
            "<ipython-input-8-6eb60017834f>:3: UserWarning: Creating a tensor from a list of numpy.ndarrays is extremely slow. Please consider converting the list to a single numpy.ndarray with numpy.array() before converting to a tensor. (Triggered internally at ../torch/csrc/utils/tensor_new.cpp:278.)\n",
            "  X_train = torch.tensor(X, dtype=torch.float32)\n"
          ]
        }
      ]
    },
    {
      "cell_type": "code",
      "source": [
        "X_train_tensor, X_test_tensor, y_train_tensor, y_test_tensor = train_test_split(X_train, y_train, test_size=0.2, random_state=42)"
      ],
      "metadata": {
        "id": "rZezrV9kJOTd"
      },
      "execution_count": null,
      "outputs": []
    },
    {
      "cell_type": "code",
      "source": [
        "test_dataset = TensorDataset(X_test_tensor, y_test_tensor)\n",
        "test_loader = DataLoader(test_dataset, batch_size=32, shuffle=True, num_workers=0)\n",
        "train_dataset = TensorDataset(X_train_tensor, y_train_tensor)\n",
        "train_loader = DataLoader(train_dataset, batch_size=32, shuffle=True, num_workers=0)"
      ],
      "metadata": {
        "id": "bbzLHr-DJPyQ"
      },
      "execution_count": null,
      "outputs": []
    },
    {
      "cell_type": "code",
      "source": [
        "device = torch.device(\"cuda\" if torch.cuda.is_available() else \"cpu\")\n",
        "\n",
        "# Define the Modified VGG16\n",
        "class ModifiedVGG16(nn.Module):\n",
        "    def __init__(self, num_classes):\n",
        "        super(ModifiedVGG16, self).__init__()\n",
        "        self.model = vgg16(weights=VGG16_Weights.DEFAULT)\n",
        "        # Modify first conv layer to accept 1-channel input (for grayscale)\n",
        "        self.model.features[0] = nn.Conv2d(1, 64, kernel_size=3, stride=1, padding=1, bias=False)\n",
        "        num_ftrs = self.model.classifier[6].in_features\n",
        "        self.model.classifier[6] = nn.Linear(num_ftrs, num_classes)\n",
        "\n",
        "    def forward(self, x):\n",
        "        # print(f\"Input shape to VGG16: {x.shape}\")\n",
        "        return self.model(x)\n",
        "# Define the Model\n",
        "num_classes = 4\n",
        "model2 = ModifiedVGG16(num_classes).to(device)\n",
        "# Loss function & optimizer\n",
        "criterion = nn.CrossEntropyLoss()\n",
        "optimizer = Adam(\n",
        "    model2.parameters(),\n",
        "    lr=1e-5,\n",
        "    betas=(0.9, 0.999),\n",
        "    eps=1e-8,  # Default for Adam\n",
        "    weight_decay=0\n",
        ")"
      ],
      "metadata": {
        "colab": {
          "base_uri": "https://localhost:8080/"
        },
        "id": "SvdeHJA4JSEV",
        "outputId": "5c167bb5-ecea-4f06-ca85-810556423d05"
      },
      "execution_count": null,
      "outputs": [
        {
          "output_type": "stream",
          "name": "stderr",
          "text": [
            "Downloading: \"https://download.pytorch.org/models/vgg16-397923af.pth\" to /root/.cache/torch/hub/checkpoints/vgg16-397923af.pth\n",
            "100%|██████████| 528M/528M [00:07<00:00, 75.7MB/s]\n"
          ]
        }
      ]
    },
    {
      "cell_type": "code",
      "source": [
        "num_epochs = 10\n",
        "\n",
        "for epoch in range(num_epochs):\n",
        "    model2.train()\n",
        "    running_loss = 0.0\n",
        "    for inputs, labels in train_loader:\n",
        "        inputs, labels = inputs.to(device), labels.to(device)\n",
        "        inputs=inputs.unsqueeze(1)\n",
        "        optimizer.zero_grad()\n",
        "        outputs = model2(inputs)\n",
        "        loss = criterion(outputs, labels)\n",
        "        loss.backward()\n",
        "        optimizer.step()\n",
        "        running_loss += loss.item()\n",
        "    print(f\"Epoch [{epoch+1}/{num_epochs}], Loss: {running_loss/len(train_loader):.4f}\")\n",
        "\n",
        "print(\"Training complete!\")"
      ],
      "metadata": {
        "colab": {
          "base_uri": "https://localhost:8080/"
        },
        "id": "l_aiSVJPJWmn",
        "outputId": "4e4a6375-ae53-4e60-959d-dc85459c0dd9"
      },
      "execution_count": null,
      "outputs": [
        {
          "output_type": "stream",
          "name": "stdout",
          "text": [
            "Epoch [1/10], Loss: 1.0592\n",
            "Epoch [2/10], Loss: 0.4479\n",
            "Epoch [3/10], Loss: 0.1855\n",
            "Epoch [4/10], Loss: 0.0823\n",
            "Epoch [5/10], Loss: 0.0417\n",
            "Epoch [6/10], Loss: 0.0347\n",
            "Epoch [7/10], Loss: 0.0281\n",
            "Epoch [8/10], Loss: 0.0190\n",
            "Epoch [9/10], Loss: 0.0173\n",
            "Epoch [10/10], Loss: 0.0287\n",
            "Training complete!\n"
          ]
        }
      ]
    },
    {
      "cell_type": "code",
      "source": [
        "model2.eval()  # Set to evaluation mode\n",
        "y_true, y_pred = [], []\n",
        "\n",
        "correct, total = 0, 0\n",
        "with torch.no_grad():  # No need to compute gradients\n",
        "    for inputs, labels in test_loader:\n",
        "        inputs, labels = inputs.to(device), labels.to(device)\n",
        "        inputs = inputs.unsqueeze(1)  # Ensure correct shape\n",
        "        outputs = model2(inputs)\n",
        "        _, predicted = torch.max(outputs, 1)  # Get predicted class\n",
        "        total += labels.size(0)\n",
        "        correct += (predicted == labels).sum().item()\n",
        "        y_true.extend(labels.cpu().numpy())   # Store true labels\n",
        "        y_pred.extend(predicted.cpu().numpy())  # Store predicted labels\n",
        "\n",
        "test_acc = 100 * correct / total\n",
        "print(f\"Test Accuracy: {test_acc:.2f}%\")\n",
        "# Compute confusion matrix\n",
        "cm = confusion_matrix(y_true, y_pred)\n",
        "class_names = [str(i) for i in range(num_classes)]  # Adjust class names if needed\n",
        "\n",
        "# Plot the confusion matrix\n",
        "plt.figure(figsize=(6, 5))\n",
        "sns.heatmap(cm, annot=True, fmt=\"d\", cmap=\"Blues\", xticklabels=class_names, yticklabels=class_names)\n",
        "plt.xlabel(\"Predicted Label\")\n",
        "plt.ylabel(\"True Label\")\n",
        "plt.title(\"Confusion Matrix\")\n",
        "plt.show()"
      ],
      "metadata": {
        "colab": {
          "base_uri": "https://localhost:8080/",
          "height": 504
        },
        "id": "V4HbtrjtJXTV",
        "outputId": "4d0d77a0-2aae-408c-8c09-08e7c146a862"
      },
      "execution_count": null,
      "outputs": [
        {
          "output_type": "stream",
          "name": "stdout",
          "text": [
            "Test Accuracy: 99.50%\n"
          ]
        },
        {
          "output_type": "display_data",
          "data": {
            "text/plain": [
              "<Figure size 600x500 with 2 Axes>"
            ],
            "image/png": "[encoded data removed]"
          },
          "metadata": {}
        }
      ]
    },
    {
      "cell_type": "code",
      "source": [
        "# Define the Modified EfficientNet\n",
        "class ModifiedEfficientNet(nn.Module):\n",
        "    def __init__(self, num_classes):\n",
        "        super(ModifiedEfficientNet, self).__init__()\n",
        "        self.model = efficientnet_b1(weights=EfficientNet_B1_Weights.DEFAULT)\n",
        "        # Modify first conv layer to accept 1-channel input (grayscale spectrogram)\n",
        "        self.model.features[0][0] = nn.Conv2d(1, 32, kernel_size=(3, 3), stride=(2, 2), padding=(1, 1), bias=False)\n",
        "        num_ftrs = self.model.classifier[1].in_features\n",
        "        # New fully connected layers before softmax\n",
        "        self.extra_layers = nn.Sequential(\n",
        "            nn.Linear(num_ftrs, 512),\n",
        "            nn.ReLU(),\n",
        "            nn.BatchNorm1d(512),\n",
        "            nn.Dropout(0.4),  # Dropout for regularization\n",
        "\n",
        "            nn.Linear(512, 256),\n",
        "            nn.ReLU(),\n",
        "            nn.BatchNorm1d(256),\n",
        "            nn.Dropout(0.3),  # Dropout for regularization\n",
        "\n",
        "            nn.Linear(256, num_classes)  # Final output layer\n",
        "        )\n",
        "\n",
        "    def forward(self, x):\n",
        "        x = self.model.features(x)  # Extract features\n",
        "        x = self.model.avgpool(x)  # Global Average Pooling\n",
        "        x = torch.flatten(x, 1)  # Flatten for FC layers\n",
        "        x = self.extra_layers(x)  # Pass through new layers\n",
        "        return x\n",
        "\n",
        "# Define Model\n",
        "num_classes = 4\n",
        "model = ModifiedEfficientNet(num_classes).to(device)"
      ],
      "metadata": {
        "colab": {
          "base_uri": "https://localhost:8080/"
        },
        "id": "TqIDcUmSJZ05",
        "outputId": "f4fdbf6b-0abb-4cb7-b9e4-47981de38074"
      },
      "execution_count": null,
      "outputs": [
        {
          "output_type": "stream",
          "name": "stderr",
          "text": [
            "Downloading: \"https://download.pytorch.org/models/efficientnet_b1-c27df63c.pth\" to /root/.cache/torch/hub/checkpoints/efficientnet_b1-c27df63c.pth\n",
            "100%|██████████| 30.1M/30.1M [00:00<00:00, 170MB/s]\n"
          ]
        }
      ]
    },
    {
      "cell_type": "code",
      "source": [
        "# Loss function\n",
        "criterion = nn.CrossEntropyLoss()\n",
        "\n",
        "# Optimizer (AdamW is better for deep networks)\n",
        "optimizer = optim.AdamW(model.parameters(), lr=1e-4, weight_decay=1e-4)"
      ],
      "metadata": {
        "id": "YaglyxhCJcxj"
      },
      "execution_count": null,
      "outputs": []
    },
    {
      "cell_type": "code",
      "source": [
        "num_epochs = 10\n",
        "for epoch in range(num_epochs):\n",
        "    model.train()  # Set model to training mode\n",
        "    running_loss = 0.0\n",
        "    correct, total = 0, 0\n",
        "\n",
        "    for inputs, labels in train_loader:\n",
        "        inputs, labels = inputs.to(device), labels.to(device)\n",
        "        inputs = inputs.unsqueeze(1)  # Add channel dimension -> (batch_size, 1, 128, 128)\n",
        "        optimizer.zero_grad()  # Reset gradients\n",
        "        outputs = model(inputs)  # Forward pass\n",
        "        loss = criterion(outputs, labels)  # Compute loss\n",
        "        loss.backward()  # Backpropagation\n",
        "        optimizer.step()  # Update weights\n",
        "\n",
        "        running_loss += loss.item()\n",
        "\n",
        "        # Calculate accuracy\n",
        "        _, predicted = torch.max(outputs, 1)\n",
        "        total += labels.size(0)\n",
        "        correct += (predicted == labels).sum().item()\n",
        "\n",
        "    train_loss = running_loss / len(train_loader)\n",
        "    train_acc = 100 * correct / total\n",
        "\n",
        "    print(f\"Epoch [{epoch+1}/{num_epochs}], Loss: {train_loss:.4f}, Accuracy: {train_acc:.2f}%\")\n",
        "\n",
        "print(\"Training Complete!\")"
      ],
      "metadata": {
        "colab": {
          "base_uri": "https://localhost:8080/"
        },
        "id": "V-nB1W2QJePB",
        "outputId": "6027dc24-0fbe-4b8b-d37a-53db4b643ad9"
      },
      "execution_count": null,
      "outputs": [
        {
          "output_type": "stream",
          "name": "stdout",
          "text": [
            "Epoch [1/10], Loss: 1.1424, Accuracy: 49.45%\n",
            "Epoch [2/10], Loss: 0.6868, Accuracy: 73.64%\n",
            "Epoch [3/10], Loss: 0.4490, Accuracy: 83.79%\n",
            "Epoch [4/10], Loss: 0.3029, Accuracy: 89.48%\n",
            "Epoch [5/10], Loss: 0.2211, Accuracy: 92.96%\n",
            "Epoch [6/10], Loss: 0.1737, Accuracy: 94.38%\n",
            "Epoch [7/10], Loss: 0.1388, Accuracy: 95.41%\n",
            "Epoch [8/10], Loss: 0.1203, Accuracy: 96.23%\n",
            "Epoch [9/10], Loss: 0.0988, Accuracy: 96.98%\n",
            "Epoch [10/10], Loss: 0.0876, Accuracy: 97.33%\n",
            "Training Complete!\n"
          ]
        }
      ]
    },
    {
      "cell_type": "code",
      "source": [
        "model.eval()  # Set to evaluation mode\n",
        "y_true, y_pred = [], []\n",
        "\n",
        "correct, total = 0, 0\n",
        "with torch.no_grad():  # No need to compute gradients\n",
        "    for inputs, labels in test_loader:\n",
        "        inputs, labels = inputs.to(device), labels.to(device)\n",
        "        inputs = inputs.unsqueeze(1)  # Ensure correct shape\n",
        "        outputs = model(inputs)\n",
        "        _, predicted = torch.max(outputs, 1)  # Get predicted class\n",
        "\n",
        "        y_true.extend(labels.cpu().numpy())   # Store true labels\n",
        "        y_pred.extend(predicted.cpu().numpy())  # Store predicted labels\n",
        "        total += labels.size(0)\n",
        "        correct += (predicted == labels).sum().item()\n",
        "# Compute confusion matrix\n",
        "# Compute accuracy\n",
        "accuracy = 100 * correct / total\n",
        "print(f\"Test Accuracy: {accuracy:.2f}%\")\n",
        "cm = confusion_matrix(y_true, y_pred)\n",
        "class_names = [str(i) for i in range(num_classes)]  # Adjust class names if needed\n",
        "\n",
        "# Plot the confusion matrix\n",
        "plt.figure(figsize=(6, 5))\n",
        "sns.heatmap(cm, annot=True, fmt=\"d\", cmap=\"Blues\", xticklabels=class_names, yticklabels=class_names)\n",
        "plt.xlabel(\"Predicted Label\")\n",
        "plt.ylabel(\"True Label\")\n",
        "plt.title(\"Confusion Matrix\")\n",
        "plt.show()"
      ],
      "metadata": {
        "colab": {
          "base_uri": "https://localhost:8080/",
          "height": 504
        },
        "id": "fpnZ6Z4TJhjY",
        "outputId": "7729a9e2-9e2e-4cb3-9619-277091daf66d"
      },
      "execution_count": null,
      "outputs": [
        {
          "output_type": "stream",
          "name": "stdout",
          "text": [
            "Test Accuracy: 98.87%\n"
          ]
        },
        {
          "output_type": "display_data",
          "data": {
            "text/plain": [
              "<Figure size 600x500 with 2 Axes>"
            ],
            "image/png": "[encoded data removed]"
          },
          "metadata": {}
        }
      ]
    }
  ]
}