{
 "cells": [
  {
   "cell_type": "code",
   "execution_count": 1,
   "id": "ccf9ba07",
   "metadata": {
    "_cell_guid": "b1076dfc-b9ad-4769-8c92-a6c4dae69d19",
    "_uuid": "8f2839f25d086af736a60e9eeb907d3b93b6e0e5",
    "execution": {
     "iopub.execute_input": "2025-01-16T08:30:58.509440Z",
     "iopub.status.busy": "2025-01-16T08:30:58.509057Z",
     "iopub.status.idle": "2025-01-16T08:31:04.838080Z",
     "shell.execute_reply": "2025-01-16T08:31:04.835967Z"
    },
    "papermill": {
     "duration": 6.336772,
     "end_time": "2025-01-16T08:31:04.840414",
     "exception": false,
     "start_time": "2025-01-16T08:30:58.503642",
     "status": "completed"
    },
    "tags": []
   },
   "outputs": [
    {
     "name": "stdout",
     "output_type": "stream",
     "text": [
      "Collecting noisereduce\r\n",
      "  Downloading noisereduce-3.0.3-py3-none-any.whl.metadata (14 kB)\r\n",
      "Requirement already satisfied: scipy in /usr/local/lib/python3.10/dist-packages (from noisereduce) (1.13.1)\r\n",
      "Requirement already satisfied: matplotlib in /usr/local/lib/python3.10/dist-packages (from noisereduce) (3.7.1)\r\n",
      "Requirement already satisfied: numpy in /usr/local/lib/python3.10/dist-packages (from noisereduce) (1.26.4)\r\n",
      "Requirement already satisfied: tqdm in /usr/local/lib/python3.10/dist-packages (from noisereduce) (4.66.5)\r\n",
      "Requirement already satisfied: joblib in /usr/local/lib/python3.10/dist-packages (from noisereduce) (1.4.2)\r\n",
      "Requirement already satisfied: contourpy>=1.0.1 in /usr/local/lib/python3.10/dist-packages (from matplotlib->noisereduce) (1.3.0)\r\n",
      "Requirement already satisfied: cycler>=0.10 in /usr/local/lib/python3.10/dist-packages (from matplotlib->noisereduce) (0.12.1)\r\n",
      "Requirement already satisfied: fonttools>=4.22.0 in /usr/local/lib/python3.10/dist-packages (from matplotlib->noisereduce) (4.53.1)\r\n",
      "Requirement already satisfied: kiwisolver>=1.0.1 in /usr/local/lib/python3.10/dist-packages (from matplotlib->noisereduce) (1.4.7)\r\n",
      "Requirement already satisfied: packaging>=20.0 in /usr/local/lib/python3.10/dist-packages (from matplotlib->noisereduce) (24.1)\r\n",
      "Requirement already satisfied: pillow>=6.2.0 in /usr/local/lib/python3.10/dist-packages (from matplotlib->noisereduce) (10.4.0)\r\n",
      "Requirement already satisfied: pyparsing>=2.3.1 in /usr/local/lib/python3.10/dist-packages (from matplotlib->noisereduce) (3.1.4)\r\n",
      "Requirement already satisfied: python-dateutil>=2.7 in /usr/local/lib/python3.10/dist-packages (from matplotlib->noisereduce) (2.8.2)\r\n",
      "Requirement already satisfied: six>=1.5 in /usr/local/lib/python3.10/dist-packages (from python-dateutil>=2.7->matplotlib->noisereduce) (1.16.0)\r\n",
      "Downloading noisereduce-3.0.3-py3-none-any.whl (22 kB)\r\n",
      "Installing collected packages: noisereduce\r\n",
      "Successfully installed noisereduce-3.0.3\r\n"
     ]
    }
   ],
   "source": [
    "!pip install noisereduce"
   ]
  },
  {
   "cell_type": "code",
   "execution_count": 2,
   "id": "c29c6ce2",
   "metadata": {
    "execution": {
     "iopub.execute_input": "2025-01-16T08:31:04.850104Z",
     "iopub.status.busy": "2025-01-16T08:31:04.849682Z",
     "iopub.status.idle": "2025-01-16T08:31:05.821048Z",
     "shell.execute_reply": "2025-01-16T08:31:05.819858Z"
    },
    "papermill": {
     "duration": 0.977925,
     "end_time": "2025-01-16T08:31:05.822817",
     "exception": false,
     "start_time": "2025-01-16T08:31:04.844892",
     "status": "completed"
    },
    "tags": []
   },
   "outputs": [
    {
     "data": {
      "text/html": [
       "<div>\n",
       "<style scoped>\n",
       "    .dataframe tbody tr th:only-of-type {\n",
       "        vertical-align: middle;\n",
       "    }\n",
       "\n",
       "    .dataframe tbody tr th {\n",
       "        vertical-align: top;\n",
       "    }\n",
       "\n",
       "    .dataframe thead th {\n",
       "        text-align: right;\n",
       "    }\n",
       "</style>\n",
       "<table border=\"1\" class=\"dataframe\">\n",
       "  <thead>\n",
       "    <tr style=\"text-align: right;\">\n",
       "      <th></th>\n",
       "      <th>slice_file_name</th>\n",
       "      <th>fsID</th>\n",
       "      <th>start</th>\n",
       "      <th>end</th>\n",
       "      <th>salience</th>\n",
       "      <th>fold</th>\n",
       "      <th>classID</th>\n",
       "      <th>class</th>\n",
       "    </tr>\n",
       "  </thead>\n",
       "  <tbody>\n",
       "    <tr>\n",
       "      <th>0</th>\n",
       "      <td>100032-3-0-0.wav</td>\n",
       "      <td>100032</td>\n",
       "      <td>0.0</td>\n",
       "      <td>0.317551</td>\n",
       "      <td>1</td>\n",
       "      <td>5</td>\n",
       "      <td>3</td>\n",
       "      <td>dog_bark</td>\n",
       "    </tr>\n",
       "    <tr>\n",
       "      <th>1</th>\n",
       "      <td>100263-2-0-117.wav</td>\n",
       "      <td>100263</td>\n",
       "      <td>58.5</td>\n",
       "      <td>62.500000</td>\n",
       "      <td>1</td>\n",
       "      <td>5</td>\n",
       "      <td>2</td>\n",
       "      <td>children_playing</td>\n",
       "    </tr>\n",
       "    <tr>\n",
       "      <th>2</th>\n",
       "      <td>100263-2-0-121.wav</td>\n",
       "      <td>100263</td>\n",
       "      <td>60.5</td>\n",
       "      <td>64.500000</td>\n",
       "      <td>1</td>\n",
       "      <td>5</td>\n",
       "      <td>2</td>\n",
       "      <td>children_playing</td>\n",
       "    </tr>\n",
       "    <tr>\n",
       "      <th>3</th>\n",
       "      <td>100263-2-0-126.wav</td>\n",
       "      <td>100263</td>\n",
       "      <td>63.0</td>\n",
       "      <td>67.000000</td>\n",
       "      <td>1</td>\n",
       "      <td>5</td>\n",
       "      <td>2</td>\n",
       "      <td>children_playing</td>\n",
       "    </tr>\n",
       "    <tr>\n",
       "      <th>4</th>\n",
       "      <td>100263-2-0-137.wav</td>\n",
       "      <td>100263</td>\n",
       "      <td>68.5</td>\n",
       "      <td>72.500000</td>\n",
       "      <td>1</td>\n",
       "      <td>5</td>\n",
       "      <td>2</td>\n",
       "      <td>children_playing</td>\n",
       "    </tr>\n",
       "  </tbody>\n",
       "</table>\n",
       "</div>"
      ],
      "text/plain": [
       "      slice_file_name    fsID  start        end  salience  fold  classID  \\\n",
       "0    100032-3-0-0.wav  100032    0.0   0.317551         1     5        3   \n",
       "1  100263-2-0-117.wav  100263   58.5  62.500000         1     5        2   \n",
       "2  100263-2-0-121.wav  100263   60.5  64.500000         1     5        2   \n",
       "3  100263-2-0-126.wav  100263   63.0  67.000000         1     5        2   \n",
       "4  100263-2-0-137.wav  100263   68.5  72.500000         1     5        2   \n",
       "\n",
       "              class  \n",
       "0          dog_bark  \n",
       "1  children_playing  \n",
       "2  children_playing  \n",
       "3  children_playing  \n",
       "4  children_playing  "
      ]
     },
     "execution_count": 2,
     "metadata": {},
     "output_type": "execute_result"
    }
   ],
   "source": [
    "import pandas as pd\n",
    "import librosa\n",
    "import os\n",
    "import numpy as np\n",
    "metadata = pd.read_csv('/kaggle/input/urbansound8k/UrbanSound8K.csv')\n",
    "\n",
    "metadata.head()"
   ]
  },
  {
   "cell_type": "code",
   "execution_count": 3,
   "id": "10e8599f",
   "metadata": {
    "execution": {
     "iopub.execute_input": "2025-01-16T08:31:05.832666Z",
     "iopub.status.busy": "2025-01-16T08:31:05.832235Z",
     "iopub.status.idle": "2025-01-16T08:46:43.813973Z",
     "shell.execute_reply": "2025-01-16T08:46:43.811562Z"
    },
    "papermill": {
     "duration": 938.009666,
     "end_time": "2025-01-16T08:46:43.836856",
     "exception": false,
     "start_time": "2025-01-16T08:31:05.827190",
     "status": "completed"
    },
    "tags": []
   },
   "outputs": [
    {
     "name": "stdout",
     "output_type": "stream",
     "text": [
      "(8732, 13) (8732,)\n"
     ]
    }
   ],
   "source": [
    "import os\n",
    "import numpy as np\n",
    "import pandas as pd\n",
    "import librosa\n",
    "import noisereduce as nr\n",
    "from concurrent.futures import ThreadPoolExecutor\n",
    "\n",
    "def process_audio_file(file_path, sample_rate):\n",
    "    audio, sr = librosa.load(file_path, sr=sample_rate)\n",
    "    n_fft = min(2048, len(audio)) \n",
    "    cleansed_audio = nr.reduce_noise(y=audio, sr=sr)\n",
    "    normalized_audio = cleansed_audio/ np.max(np.abs(cleansed_audio))\n",
    "    mfccs = librosa.feature.mfcc(y=audio, sr=sr, n_mfcc=13,n_fft=n_fft)\n",
    "    mfccs = np.mean(mfccs.T, axis=0)\n",
    "    return mfccs\n",
    "\n",
    "def load_audio_files(dataframe, sample_rate=22050, duration=5):\n",
    "    audio_data = []\n",
    "    labels = []\n",
    "\n",
    "    with ThreadPoolExecutor() as executor:\n",
    "        futures = []\n",
    "        for index, row in dataframe.iterrows():\n",
    "            file_path = os.path.join('/kaggle/input/urbansound8k', 'fold' + str(row['fold']), row['slice_file_name'])\n",
    "            futures.append(executor.submit(process_audio_file, file_path, sample_rate))\n",
    "            labels.append(row['classID'])\n",
    "\n",
    "        for future in futures:\n",
    "            audio_data.append(future.result())\n",
    "\n",
    "    return np.array(audio_data), np.array(labels)\n",
    "\n",
    "\n",
    "X, y = load_audio_files(metadata)\n",
    "print(X.shape, y.shape)"
   ]
  },
  {
   "cell_type": "code",
   "execution_count": 4,
   "id": "60aa3696",
   "metadata": {
    "execution": {
     "iopub.execute_input": "2025-01-16T08:46:43.864730Z",
     "iopub.status.busy": "2025-01-16T08:46:43.862402Z",
     "iopub.status.idle": "2025-01-16T08:46:44.503210Z",
     "shell.execute_reply": "2025-01-16T08:46:44.502002Z"
    },
    "papermill": {
     "duration": 0.656684,
     "end_time": "2025-01-16T08:46:44.505330",
     "exception": false,
     "start_time": "2025-01-16T08:46:43.848646",
     "status": "completed"
    },
    "tags": []
   },
   "outputs": [],
   "source": [
    "from sklearn.model_selection import train_test_split\n",
    "\n",
    "X_train, X_test, y_train, y_test = train_test_split(X, y, test_size=0.2, random_state=42)\n",
    "\n",
    "X_train = X_train.reshape((X_train.shape[0], 1, X_train.shape[1]))\n",
    "X_test = X_test.reshape((X_test.shape[0], 1, X_test.shape[1]))"
   ]
  },
  {
   "cell_type": "code",
   "execution_count": 5,
   "id": "1a39a52a",
   "metadata": {
    "execution": {
     "iopub.execute_input": "2025-01-16T08:46:44.515985Z",
     "iopub.status.busy": "2025-01-16T08:46:44.515565Z",
     "iopub.status.idle": "2025-01-16T08:46:55.223122Z",
     "shell.execute_reply": "2025-01-16T08:46:55.221571Z"
    },
    "papermill": {
     "duration": 10.714719,
     "end_time": "2025-01-16T08:46:55.224956",
     "exception": false,
     "start_time": "2025-01-16T08:46:44.510237",
     "status": "completed"
    },
    "tags": []
   },
   "outputs": [
    {
     "name": "stderr",
     "output_type": "stream",
     "text": [
      "/usr/local/lib/python3.10/dist-packages/keras/src/layers/rnn/rnn.py:204: UserWarning: Do not pass an `input_shape`/`input_dim` argument to a layer. When using Sequential models, prefer using an `Input(shape)` object as the first layer in the model instead.\n",
      "  super().__init__(**kwargs)\n"
     ]
    }
   ],
   "source": [
    "import tensorflow as tf\n",
    "from tensorflow.keras import layers, models\n",
    "\n",
    "input_shape = (X_train.shape[1], X_train.shape[2])  \n",
    "model = models.Sequential([\n",
    "    layers.SimpleRNN(64, input_shape=input_shape, return_sequences=True),\n",
    "    layers.SimpleRNN(32),\n",
    "    layers.Dense(64, activation='relu'),\n",
    "    layers.Dense(128, activation='relu'),\n",
    "    layers.Dense(10, activation='softmax')\n",
    "    \n",
    "])\n",
    "\n",
    "\n",
    "model.compile(optimizer='adam', loss='sparse_categorical_crossentropy', metrics=['accuracy'])"
   ]
  },
  {
   "cell_type": "code",
   "execution_count": 6,
   "id": "a6c33b24",
   "metadata": {
    "execution": {
     "iopub.execute_input": "2025-01-16T08:46:55.235561Z",
     "iopub.status.busy": "2025-01-16T08:46:55.234840Z",
     "iopub.status.idle": "2025-01-16T08:47:13.664793Z",
     "shell.execute_reply": "2025-01-16T08:47:13.663580Z"
    },
    "papermill": {
     "duration": 18.437463,
     "end_time": "2025-01-16T08:47:13.666943",
     "exception": false,
     "start_time": "2025-01-16T08:46:55.229480",
     "status": "completed"
    },
    "tags": []
   },
   "outputs": [
    {
     "name": "stdout",
     "output_type": "stream",
     "text": [
      "Epoch 1/25\n",
      "\u001b[1m175/175\u001b[0m \u001b[32m━━━━━━━━━━━━━━━━━━━━\u001b[0m\u001b[37m\u001b[0m \u001b[1m4s\u001b[0m 5ms/step - accuracy: 0.2760 - loss: 2.0493 - val_accuracy: 0.4180 - val_loss: 1.6929\n",
      "Epoch 2/25\n",
      "\u001b[1m175/175\u001b[0m \u001b[32m━━━━━━━━━━━━━━━━━━━━\u001b[0m\u001b[37m\u001b[0m \u001b[1m1s\u001b[0m 3ms/step - accuracy: 0.4580 - loss: 1.5583 - val_accuracy: 0.4782 - val_loss: 1.5510\n",
      "Epoch 3/25\n",
      "\u001b[1m175/175\u001b[0m \u001b[32m━━━━━━━━━━━━━━━━━━━━\u001b[0m\u001b[37m\u001b[0m \u001b[1m1s\u001b[0m 3ms/step - accuracy: 0.5285 - loss: 1.3859 - val_accuracy: 0.5061 - val_loss: 1.4445\n",
      "Epoch 4/25\n",
      "\u001b[1m175/175\u001b[0m \u001b[32m━━━━━━━━━━━━━━━━━━━━\u001b[0m\u001b[37m\u001b[0m \u001b[1m1s\u001b[0m 3ms/step - accuracy: 0.5486 - loss: 1.3087 - val_accuracy: 0.5319 - val_loss: 1.3847\n",
      "Epoch 5/25\n",
      "\u001b[1m175/175\u001b[0m \u001b[32m━━━━━━━━━━━━━━━━━━━━\u001b[0m\u001b[37m\u001b[0m \u001b[1m1s\u001b[0m 3ms/step - accuracy: 0.5781 - loss: 1.2259 - val_accuracy: 0.5147 - val_loss: 1.3759\n",
      "Epoch 6/25\n",
      "\u001b[1m175/175\u001b[0m \u001b[32m━━━━━━━━━━━━━━━━━━━━\u001b[0m\u001b[37m\u001b[0m \u001b[1m1s\u001b[0m 3ms/step - accuracy: 0.5988 - loss: 1.1894 - val_accuracy: 0.5476 - val_loss: 1.3374\n",
      "Epoch 7/25\n",
      "\u001b[1m175/175\u001b[0m \u001b[32m━━━━━━━━━━━━━━━━━━━━\u001b[0m\u001b[37m\u001b[0m \u001b[1m1s\u001b[0m 3ms/step - accuracy: 0.5992 - loss: 1.1514 - val_accuracy: 0.5655 - val_loss: 1.3195\n",
      "Epoch 8/25\n",
      "\u001b[1m175/175\u001b[0m \u001b[32m━━━━━━━━━━━━━━━━━━━━\u001b[0m\u001b[37m\u001b[0m \u001b[1m1s\u001b[0m 3ms/step - accuracy: 0.6420 - loss: 1.0655 - val_accuracy: 0.5906 - val_loss: 1.2365\n",
      "Epoch 9/25\n",
      "\u001b[1m175/175\u001b[0m \u001b[32m━━━━━━━━━━━━━━━━━━━━\u001b[0m\u001b[37m\u001b[0m \u001b[1m1s\u001b[0m 3ms/step - accuracy: 0.6435 - loss: 1.0323 - val_accuracy: 0.5655 - val_loss: 1.2982\n",
      "Epoch 10/25\n",
      "\u001b[1m175/175\u001b[0m \u001b[32m━━━━━━━━━━━━━━━━━━━━\u001b[0m\u001b[37m\u001b[0m \u001b[1m1s\u001b[0m 3ms/step - accuracy: 0.6494 - loss: 1.0230 - val_accuracy: 0.5941 - val_loss: 1.2278\n",
      "Epoch 11/25\n",
      "\u001b[1m175/175\u001b[0m \u001b[32m━━━━━━━━━━━━━━━━━━━━\u001b[0m\u001b[37m\u001b[0m \u001b[1m1s\u001b[0m 3ms/step - accuracy: 0.6556 - loss: 1.0139 - val_accuracy: 0.5970 - val_loss: 1.2120\n",
      "Epoch 12/25\n",
      "\u001b[1m175/175\u001b[0m \u001b[32m━━━━━━━━━━━━━━━━━━━━\u001b[0m\u001b[37m\u001b[0m \u001b[1m1s\u001b[0m 3ms/step - accuracy: 0.6647 - loss: 0.9749 - val_accuracy: 0.6042 - val_loss: 1.1869\n",
      "Epoch 13/25\n",
      "\u001b[1m175/175\u001b[0m \u001b[32m━━━━━━━━━━━━━━━━━━━━\u001b[0m\u001b[37m\u001b[0m \u001b[1m1s\u001b[0m 3ms/step - accuracy: 0.6877 - loss: 0.9427 - val_accuracy: 0.6127 - val_loss: 1.1763\n",
      "Epoch 14/25\n",
      "\u001b[1m175/175\u001b[0m \u001b[32m━━━━━━━━━━━━━━━━━━━━\u001b[0m\u001b[37m\u001b[0m \u001b[1m1s\u001b[0m 3ms/step - accuracy: 0.6864 - loss: 0.9095 - val_accuracy: 0.6170 - val_loss: 1.1740\n",
      "Epoch 15/25\n",
      "\u001b[1m175/175\u001b[0m \u001b[32m━━━━━━━━━━━━━━━━━━━━\u001b[0m\u001b[37m\u001b[0m \u001b[1m1s\u001b[0m 3ms/step - accuracy: 0.6887 - loss: 0.9103 - val_accuracy: 0.6306 - val_loss: 1.1181\n",
      "Epoch 16/25\n",
      "\u001b[1m175/175\u001b[0m \u001b[32m━━━━━━━━━━━━━━━━━━━━\u001b[0m\u001b[37m\u001b[0m \u001b[1m1s\u001b[0m 3ms/step - accuracy: 0.7116 - loss: 0.8643 - val_accuracy: 0.6249 - val_loss: 1.1624\n",
      "Epoch 17/25\n",
      "\u001b[1m175/175\u001b[0m \u001b[32m━━━━━━━━━━━━━━━━━━━━\u001b[0m\u001b[37m\u001b[0m \u001b[1m1s\u001b[0m 3ms/step - accuracy: 0.7069 - loss: 0.8515 - val_accuracy: 0.6457 - val_loss: 1.1136\n",
      "Epoch 18/25\n",
      "\u001b[1m175/175\u001b[0m \u001b[32m━━━━━━━━━━━━━━━━━━━━\u001b[0m\u001b[37m\u001b[0m \u001b[1m1s\u001b[0m 3ms/step - accuracy: 0.7159 - loss: 0.8240 - val_accuracy: 0.6321 - val_loss: 1.1259\n",
      "Epoch 19/25\n",
      "\u001b[1m175/175\u001b[0m \u001b[32m━━━━━━━━━━━━━━━━━━━━\u001b[0m\u001b[37m\u001b[0m \u001b[1m1s\u001b[0m 3ms/step - accuracy: 0.7174 - loss: 0.8278 - val_accuracy: 0.6242 - val_loss: 1.1288\n",
      "Epoch 20/25\n",
      "\u001b[1m175/175\u001b[0m \u001b[32m━━━━━━━━━━━━━━━━━━━━\u001b[0m\u001b[37m\u001b[0m \u001b[1m1s\u001b[0m 3ms/step - accuracy: 0.7037 - loss: 0.8612 - val_accuracy: 0.6378 - val_loss: 1.1393\n",
      "Epoch 21/25\n",
      "\u001b[1m175/175\u001b[0m \u001b[32m━━━━━━━━━━━━━━━━━━━━\u001b[0m\u001b[37m\u001b[0m \u001b[1m1s\u001b[0m 3ms/step - accuracy: 0.7222 - loss: 0.8175 - val_accuracy: 0.6285 - val_loss: 1.1081\n",
      "Epoch 22/25\n",
      "\u001b[1m175/175\u001b[0m \u001b[32m━━━━━━━━━━━━━━━━━━━━\u001b[0m\u001b[37m\u001b[0m \u001b[1m1s\u001b[0m 3ms/step - accuracy: 0.7332 - loss: 0.7867 - val_accuracy: 0.6242 - val_loss: 1.1173\n",
      "Epoch 23/25\n",
      "\u001b[1m175/175\u001b[0m \u001b[32m━━━━━━━━━━━━━━━━━━━━\u001b[0m\u001b[37m\u001b[0m \u001b[1m1s\u001b[0m 3ms/step - accuracy: 0.7331 - loss: 0.7649 - val_accuracy: 0.6371 - val_loss: 1.0972\n",
      "Epoch 24/25\n",
      "\u001b[1m175/175\u001b[0m \u001b[32m━━━━━━━━━━━━━━━━━━━━\u001b[0m\u001b[37m\u001b[0m \u001b[1m1s\u001b[0m 3ms/step - accuracy: 0.7411 - loss: 0.7555 - val_accuracy: 0.6421 - val_loss: 1.0703\n",
      "Epoch 25/25\n",
      "\u001b[1m175/175\u001b[0m \u001b[32m━━━━━━━━━━━━━━━━━━━━\u001b[0m\u001b[37m\u001b[0m \u001b[1m1s\u001b[0m 3ms/step - accuracy: 0.7348 - loss: 0.7570 - val_accuracy: 0.6428 - val_loss: 1.0819\n"
     ]
    }
   ],
   "source": [
    "history = model.fit(X_train, y_train, epochs=25, batch_size=32, validation_split=0.2)"
   ]
  },
  {
   "cell_type": "code",
   "execution_count": 7,
   "id": "1b4b4708",
   "metadata": {
    "execution": {
     "iopub.execute_input": "2025-01-16T08:47:13.710513Z",
     "iopub.status.busy": "2025-01-16T08:47:13.710041Z",
     "iopub.status.idle": "2025-01-16T08:47:13.887135Z",
     "shell.execute_reply": "2025-01-16T08:47:13.885961Z"
    },
    "papermill": {
     "duration": 0.200559,
     "end_time": "2025-01-16T08:47:13.888963",
     "exception": false,
     "start_time": "2025-01-16T08:47:13.688404",
     "status": "completed"
    },
    "tags": []
   },
   "outputs": [
    {
     "name": "stdout",
     "output_type": "stream",
     "text": [
      "\u001b[1m55/55\u001b[0m \u001b[32m━━━━━━━━━━━━━━━━━━━━\u001b[0m\u001b[37m\u001b[0m \u001b[1m0s\u001b[0m 2ms/step - accuracy: 0.6661 - loss: 1.0553\n",
      "Test Accuracy: 0.6605609655380249\n"
     ]
    }
   ],
   "source": [
    "loss, accuracy = model.evaluate(X_test, y_test)\n",
    "print(f'Test Accuracy: {accuracy:}')"
   ]
  },
  {
   "cell_type": "code",
   "execution_count": 8,
   "id": "507444e6",
   "metadata": {
    "execution": {
     "iopub.execute_input": "2025-01-16T08:47:13.931809Z",
     "iopub.status.busy": "2025-01-16T08:47:13.931353Z",
     "iopub.status.idle": "2025-01-16T08:50:49.433345Z",
     "shell.execute_reply": "2025-01-16T08:50:49.429947Z"
    },
    "papermill": {
     "duration": 215.527187,
     "end_time": "2025-01-16T08:50:49.436951",
     "exception": false,
     "start_time": "2025-01-16T08:47:13.909764",
     "status": "completed"
    },
    "tags": []
   },
   "outputs": [
    {
     "name": "stderr",
     "output_type": "stream",
     "text": [
      "/usr/local/lib/python3.10/dist-packages/librosa/core/spectrum.py:266: UserWarning: n_fft=2048 is too large for input signal of length=1757\n",
      "  warnings.warn(\n",
      "/usr/local/lib/python3.10/dist-packages/librosa/core/spectrum.py:266: UserWarning: n_fft=2048 is too large for input signal of length=1551\n",
      "  warnings.warn(\n",
      "/usr/local/lib/python3.10/dist-packages/librosa/core/spectrum.py:266: UserWarning: n_fft=2048 is too large for input signal of length=1600\n",
      "  warnings.warn(\n",
      "/usr/local/lib/python3.10/dist-packages/librosa/core/spectrum.py:266: UserWarning: n_fft=2048 is too large for input signal of length=1918\n",
      "  warnings.warn(\n",
      "/usr/local/lib/python3.10/dist-packages/librosa/core/spectrum.py:266: UserWarning: n_fft=2048 is too large for input signal of length=1696\n",
      "  warnings.warn(\n",
      "/usr/local/lib/python3.10/dist-packages/librosa/core/spectrum.py:266: UserWarning: n_fft=2048 is too large for input signal of length=960\n",
      "  warnings.warn(\n",
      "/usr/local/lib/python3.10/dist-packages/librosa/core/spectrum.py:266: UserWarning: n_fft=2048 is too large for input signal of length=800\n",
      "  warnings.warn(\n",
      "/usr/local/lib/python3.10/dist-packages/librosa/core/spectrum.py:266: UserWarning: n_fft=2048 is too large for input signal of length=1105\n",
      "  warnings.warn(\n",
      "/usr/local/lib/python3.10/dist-packages/librosa/core/spectrum.py:266: UserWarning: n_fft=2048 is too large for input signal of length=1745\n",
      "  warnings.warn(\n"
     ]
    },
    {
     "name": "stdout",
     "output_type": "stream",
     "text": [
      "ThreadPool Finished!\n",
      "Processed 8732 files.\n"
     ]
    }
   ],
   "source": [
    "df = pd.read_csv('/kaggle/input/urbansound8k/UrbanSound8K.csv')\n",
    "def padding(array, xx, yy):\n",
    "    h = array.shape[0]\n",
    "    w = array.shape[1]\n",
    "\n",
    "    a = max((xx-h)//2 ,0 )\n",
    "    aa = max(0, (xx-a-h))\n",
    "\n",
    "    b = max(0, (yy-w)//2)\n",
    "    bb = max(yy-b-w, 0)\n",
    "\n",
    "    return np.pad(array, pad_width=((a,aa), (b,bb)), mode='constant')\n",
    "\n",
    "def preprocess(row, target_sr=16000, target_shape=(64, 13)):\n",
    "    \"\"\"\n",
    "    Preprocess a single audio file to extract MFCC features.\n",
    "    \"\"\"\n",
    "    try:\n",
    "        file_path = os.path.join('/kaggle/input/urbansound8k', 'fold' + str(row['fold']), row['slice_file_name'])\n",
    "        # Load audio file\n",
    "        audio, orig_sr = librosa.load(file_path, sr=target_sr)\n",
    "\n",
    "        # Extract MFCC features\n",
    "        mfcc = librosa.feature.mfcc(y=audio, sr=target_sr, n_mfcc=13)\n",
    "\n",
    "        # Pad or truncate to the target shape\n",
    "        if mfcc.shape[1] < target_shape[1]:\n",
    "            mfcc = padding(mfcc, target_shape[0],target_shape[1])\n",
    "        else:\n",
    "            mfcc = mfcc[:, :target_shape[1]]\n",
    "\n",
    "        # Add the preprocessed data to the global lists\n",
    "        images.append(mfcc)\n",
    "        labels.append(row['classID'])\n",
    "\n",
    "    except Exception as e:\n",
    "        print(f\"Error processing file {row['slice_file_name']}: {e}\")\n",
    "\n",
    "# Initialize global lists\n",
    "images = []\n",
    "labels = []\n",
    "# Parallel processing\n",
    "with ThreadPoolExecutor() as pool:\n",
    "    futures = []\n",
    "    for i, row in df.iterrows():\n",
    "        futures.append(pool.submit(preprocess, row))\n",
    "\n",
    "    for future in futures:\n",
    "        future.result()  # Wait for all threads to finish\n",
    "\n",
    "print(\"ThreadPool Finished!\")\n",
    "print(f\"Processed {len(images)} files.\")"
   ]
  },
  {
   "cell_type": "code",
   "execution_count": 9,
   "id": "5574d022",
   "metadata": {
    "execution": {
     "iopub.execute_input": "2025-01-16T08:50:49.551553Z",
     "iopub.status.busy": "2025-01-16T08:50:49.550138Z",
     "iopub.status.idle": "2025-01-16T08:50:50.015197Z",
     "shell.execute_reply": "2025-01-16T08:50:50.013699Z"
    },
    "papermill": {
     "duration": 0.518244,
     "end_time": "2025-01-16T08:50:50.017331",
     "exception": false,
     "start_time": "2025-01-16T08:50:49.499087",
     "status": "completed"
    },
    "tags": []
   },
   "outputs": [
    {
     "name": "stdout",
     "output_type": "stream",
     "text": [
      "(8732, 64, 13)\n"
     ]
    }
   ],
   "source": [
    "target_shape=(64, 13)\n",
    "def padding2(array, target_shape):\n",
    "    # Pad array to the target shape\n",
    "    h, w = array.shape\n",
    "    a = max((target_shape[0] - h) // 2, 0)\n",
    "    aa = max(0, (target_shape[0] - a - h))\n",
    "    b = max(0, (target_shape[1] - w) // 2)\n",
    "    bb = max(target_shape[1] - b - w, 0)\n",
    "    \n",
    "    return np.pad(array, pad_width=((a, aa), (b, bb)), mode='constant')\n",
    "images_resized=[]\n",
    "for image in images:\n",
    "    if image.shape != target_shape:\n",
    "        # Resize or pad the image to match the target shape\n",
    "        image_resized = padding2(image, target_shape)\n",
    "        images_resized.append(image_resized)\n",
    "    else:\n",
    "        images_resized.append(image)\n",
    "\n",
    "# Now convert the list to a NumPy array\n",
    "imagesd = np.array(images_resized)\n",
    "print(imagesd.shape)\n",
    "labels=np.array(labels)"
   ]
  },
  {
   "cell_type": "code",
   "execution_count": 10,
   "id": "b09854bd",
   "metadata": {
    "execution": {
     "iopub.execute_input": "2025-01-16T08:50:50.059487Z",
     "iopub.status.busy": "2025-01-16T08:50:50.059145Z",
     "iopub.status.idle": "2025-01-16T08:50:50.100144Z",
     "shell.execute_reply": "2025-01-16T08:50:50.098833Z"
    },
    "papermill": {
     "duration": 0.06428,
     "end_time": "2025-01-16T08:50:50.102229",
     "exception": false,
     "start_time": "2025-01-16T08:50:50.037949",
     "status": "completed"
    },
    "tags": []
   },
   "outputs": [],
   "source": [
    "from sklearn.model_selection import train_test_split\n",
    "\n",
    "X_train, X_test, y_train, y_test = train_test_split(imagesd, labels, test_size=0.2, random_state=42)"
   ]
  },
  {
   "cell_type": "code",
   "execution_count": 11,
   "id": "db2ddd19",
   "metadata": {
    "execution": {
     "iopub.execute_input": "2025-01-16T08:50:50.144140Z",
     "iopub.status.busy": "2025-01-16T08:50:50.143717Z",
     "iopub.status.idle": "2025-01-16T08:50:50.216745Z",
     "shell.execute_reply": "2025-01-16T08:50:50.215767Z"
    },
    "papermill": {
     "duration": 0.095599,
     "end_time": "2025-01-16T08:50:50.218300",
     "exception": false,
     "start_time": "2025-01-16T08:50:50.122701",
     "status": "completed"
    },
    "tags": []
   },
   "outputs": [
    {
     "data": {
      "text/html": [
       "<pre style=\"white-space:pre;overflow-x:auto;line-height:normal;font-family:Menlo,'DejaVu Sans Mono',consolas,'Courier New',monospace\"><span style=\"font-weight: bold\">Model: \"sequential_1\"</span>\n",
       "</pre>\n"
      ],
      "text/plain": [
       "\u001b[1mModel: \"sequential_1\"\u001b[0m\n"
      ]
     },
     "metadata": {},
     "output_type": "display_data"
    },
    {
     "data": {
      "text/html": [
       "<pre style=\"white-space:pre;overflow-x:auto;line-height:normal;font-family:Menlo,'DejaVu Sans Mono',consolas,'Courier New',monospace\">┏━━━━━━━━━━━━━━━━━━━━━━━━━━━━━━━━━━━━━━┳━━━━━━━━━━━━━━━━━━━━━━━━━━━━━┳━━━━━━━━━━━━━━━━━┓\n",
       "┃<span style=\"font-weight: bold\"> Layer (type)                         </span>┃<span style=\"font-weight: bold\"> Output Shape                </span>┃<span style=\"font-weight: bold\">         Param # </span>┃\n",
       "┡━━━━━━━━━━━━━━━━━━━━━━━━━━━━━━━━━━━━━━╇━━━━━━━━━━━━━━━━━━━━━━━━━━━━━╇━━━━━━━━━━━━━━━━━┩\n",
       "│ conv2d (<span style=\"color: #0087ff; text-decoration-color: #0087ff\">Conv2D</span>)                      │ (<span style=\"color: #00d7ff; text-decoration-color: #00d7ff\">None</span>, <span style=\"color: #00af00; text-decoration-color: #00af00\">62</span>, <span style=\"color: #00af00; text-decoration-color: #00af00\">11</span>, <span style=\"color: #00af00; text-decoration-color: #00af00\">32</span>)          │             <span style=\"color: #00af00; text-decoration-color: #00af00\">320</span> │\n",
       "├──────────────────────────────────────┼─────────────────────────────┼─────────────────┤\n",
       "│ max_pooling2d (<span style=\"color: #0087ff; text-decoration-color: #0087ff\">MaxPooling2D</span>)         │ (<span style=\"color: #00d7ff; text-decoration-color: #00d7ff\">None</span>, <span style=\"color: #00af00; text-decoration-color: #00af00\">31</span>, <span style=\"color: #00af00; text-decoration-color: #00af00\">5</span>, <span style=\"color: #00af00; text-decoration-color: #00af00\">32</span>)           │               <span style=\"color: #00af00; text-decoration-color: #00af00\">0</span> │\n",
       "├──────────────────────────────────────┼─────────────────────────────┼─────────────────┤\n",
       "│ conv2d_1 (<span style=\"color: #0087ff; text-decoration-color: #0087ff\">Conv2D</span>)                    │ (<span style=\"color: #00d7ff; text-decoration-color: #00d7ff\">None</span>, <span style=\"color: #00af00; text-decoration-color: #00af00\">29</span>, <span style=\"color: #00af00; text-decoration-color: #00af00\">3</span>, <span style=\"color: #00af00; text-decoration-color: #00af00\">64</span>)           │          <span style=\"color: #00af00; text-decoration-color: #00af00\">18,496</span> │\n",
       "├──────────────────────────────────────┼─────────────────────────────┼─────────────────┤\n",
       "│ max_pooling2d_1 (<span style=\"color: #0087ff; text-decoration-color: #0087ff\">MaxPooling2D</span>)       │ (<span style=\"color: #00d7ff; text-decoration-color: #00d7ff\">None</span>, <span style=\"color: #00af00; text-decoration-color: #00af00\">14</span>, <span style=\"color: #00af00; text-decoration-color: #00af00\">1</span>, <span style=\"color: #00af00; text-decoration-color: #00af00\">64</span>)           │               <span style=\"color: #00af00; text-decoration-color: #00af00\">0</span> │\n",
       "├──────────────────────────────────────┼─────────────────────────────┼─────────────────┤\n",
       "│ flatten (<span style=\"color: #0087ff; text-decoration-color: #0087ff\">Flatten</span>)                    │ (<span style=\"color: #00d7ff; text-decoration-color: #00d7ff\">None</span>, <span style=\"color: #00af00; text-decoration-color: #00af00\">896</span>)                 │               <span style=\"color: #00af00; text-decoration-color: #00af00\">0</span> │\n",
       "├──────────────────────────────────────┼─────────────────────────────┼─────────────────┤\n",
       "│ dense_3 (<span style=\"color: #0087ff; text-decoration-color: #0087ff\">Dense</span>)                      │ (<span style=\"color: #00d7ff; text-decoration-color: #00d7ff\">None</span>, <span style=\"color: #00af00; text-decoration-color: #00af00\">128</span>)                 │         <span style=\"color: #00af00; text-decoration-color: #00af00\">114,816</span> │\n",
       "├──────────────────────────────────────┼─────────────────────────────┼─────────────────┤\n",
       "│ dense_4 (<span style=\"color: #0087ff; text-decoration-color: #0087ff\">Dense</span>)                      │ (<span style=\"color: #00d7ff; text-decoration-color: #00d7ff\">None</span>, <span style=\"color: #00af00; text-decoration-color: #00af00\">10</span>)                  │           <span style=\"color: #00af00; text-decoration-color: #00af00\">1,290</span> │\n",
       "└──────────────────────────────────────┴─────────────────────────────┴─────────────────┘\n",
       "</pre>\n"
      ],
      "text/plain": [
       "┏━━━━━━━━━━━━━━━━━━━━━━━━━━━━━━━━━━━━━━┳━━━━━━━━━━━━━━━━━━━━━━━━━━━━━┳━━━━━━━━━━━━━━━━━┓\n",
       "┃\u001b[1m \u001b[0m\u001b[1mLayer (type)                        \u001b[0m\u001b[1m \u001b[0m┃\u001b[1m \u001b[0m\u001b[1mOutput Shape               \u001b[0m\u001b[1m \u001b[0m┃\u001b[1m \u001b[0m\u001b[1m        Param #\u001b[0m\u001b[1m \u001b[0m┃\n",
       "┡━━━━━━━━━━━━━━━━━━━━━━━━━━━━━━━━━━━━━━╇━━━━━━━━━━━━━━━━━━━━━━━━━━━━━╇━━━━━━━━━━━━━━━━━┩\n",
       "│ conv2d (\u001b[38;5;33mConv2D\u001b[0m)                      │ (\u001b[38;5;45mNone\u001b[0m, \u001b[38;5;34m62\u001b[0m, \u001b[38;5;34m11\u001b[0m, \u001b[38;5;34m32\u001b[0m)          │             \u001b[38;5;34m320\u001b[0m │\n",
       "├──────────────────────────────────────┼─────────────────────────────┼─────────────────┤\n",
       "│ max_pooling2d (\u001b[38;5;33mMaxPooling2D\u001b[0m)         │ (\u001b[38;5;45mNone\u001b[0m, \u001b[38;5;34m31\u001b[0m, \u001b[38;5;34m5\u001b[0m, \u001b[38;5;34m32\u001b[0m)           │               \u001b[38;5;34m0\u001b[0m │\n",
       "├──────────────────────────────────────┼─────────────────────────────┼─────────────────┤\n",
       "│ conv2d_1 (\u001b[38;5;33mConv2D\u001b[0m)                    │ (\u001b[38;5;45mNone\u001b[0m, \u001b[38;5;34m29\u001b[0m, \u001b[38;5;34m3\u001b[0m, \u001b[38;5;34m64\u001b[0m)           │          \u001b[38;5;34m18,496\u001b[0m │\n",
       "├──────────────────────────────────────┼─────────────────────────────┼─────────────────┤\n",
       "│ max_pooling2d_1 (\u001b[38;5;33mMaxPooling2D\u001b[0m)       │ (\u001b[38;5;45mNone\u001b[0m, \u001b[38;5;34m14\u001b[0m, \u001b[38;5;34m1\u001b[0m, \u001b[38;5;34m64\u001b[0m)           │               \u001b[38;5;34m0\u001b[0m │\n",
       "├──────────────────────────────────────┼─────────────────────────────┼─────────────────┤\n",
       "│ flatten (\u001b[38;5;33mFlatten\u001b[0m)                    │ (\u001b[38;5;45mNone\u001b[0m, \u001b[38;5;34m896\u001b[0m)                 │               \u001b[38;5;34m0\u001b[0m │\n",
       "├──────────────────────────────────────┼─────────────────────────────┼─────────────────┤\n",
       "│ dense_3 (\u001b[38;5;33mDense\u001b[0m)                      │ (\u001b[38;5;45mNone\u001b[0m, \u001b[38;5;34m128\u001b[0m)                 │         \u001b[38;5;34m114,816\u001b[0m │\n",
       "├──────────────────────────────────────┼─────────────────────────────┼─────────────────┤\n",
       "│ dense_4 (\u001b[38;5;33mDense\u001b[0m)                      │ (\u001b[38;5;45mNone\u001b[0m, \u001b[38;5;34m10\u001b[0m)                  │           \u001b[38;5;34m1,290\u001b[0m │\n",
       "└──────────────────────────────────────┴─────────────────────────────┴─────────────────┘\n"
      ]
     },
     "metadata": {},
     "output_type": "display_data"
    },
    {
     "data": {
      "text/html": [
       "<pre style=\"white-space:pre;overflow-x:auto;line-height:normal;font-family:Menlo,'DejaVu Sans Mono',consolas,'Courier New',monospace\"><span style=\"font-weight: bold\"> Total params: </span><span style=\"color: #00af00; text-decoration-color: #00af00\">134,922</span> (527.04 KB)\n",
       "</pre>\n"
      ],
      "text/plain": [
       "\u001b[1m Total params: \u001b[0m\u001b[38;5;34m134,922\u001b[0m (527.04 KB)\n"
      ]
     },
     "metadata": {},
     "output_type": "display_data"
    },
    {
     "data": {
      "text/html": [
       "<pre style=\"white-space:pre;overflow-x:auto;line-height:normal;font-family:Menlo,'DejaVu Sans Mono',consolas,'Courier New',monospace\"><span style=\"font-weight: bold\"> Trainable params: </span><span style=\"color: #00af00; text-decoration-color: #00af00\">134,922</span> (527.04 KB)\n",
       "</pre>\n"
      ],
      "text/plain": [
       "\u001b[1m Trainable params: \u001b[0m\u001b[38;5;34m134,922\u001b[0m (527.04 KB)\n"
      ]
     },
     "metadata": {},
     "output_type": "display_data"
    },
    {
     "data": {
      "text/html": [
       "<pre style=\"white-space:pre;overflow-x:auto;line-height:normal;font-family:Menlo,'DejaVu Sans Mono',consolas,'Courier New',monospace\"><span style=\"font-weight: bold\"> Non-trainable params: </span><span style=\"color: #00af00; text-decoration-color: #00af00\">0</span> (0.00 B)\n",
       "</pre>\n"
      ],
      "text/plain": [
       "\u001b[1m Non-trainable params: \u001b[0m\u001b[38;5;34m0\u001b[0m (0.00 B)\n"
      ]
     },
     "metadata": {},
     "output_type": "display_data"
    }
   ],
   "source": [
    "import tensorflow as tf\n",
    "from tensorflow.keras import layers, models\n",
    "\n",
    "# Define CNN model\n",
    "model = models.Sequential([\n",
    "    layers.Input(shape=(64, 13, 1)),  # Input shape for MFCCs\n",
    "    layers.Conv2D(32, (3, 3), activation='relu'),\n",
    "    layers.MaxPooling2D((2, 2)),\n",
    "    layers.Conv2D(64, (3, 3), activation='relu'),\n",
    "    layers.MaxPooling2D((2, 2)),\n",
    "    layers.Flatten(),\n",
    "    layers.Dense(128, activation='relu'),\n",
    "    layers.Dense(10, activation='softmax')  # num_classes = number of output labels\n",
    "])\n",
    "\n",
    "model.compile(optimizer='adam', loss='sparse_categorical_crossentropy', metrics=['accuracy'])\n",
    "model.summary()\n"
   ]
  },
  {
   "cell_type": "code",
   "execution_count": 12,
   "id": "f87501d5",
   "metadata": {
    "execution": {
     "iopub.execute_input": "2025-01-16T08:50:50.262593Z",
     "iopub.status.busy": "2025-01-16T08:50:50.262197Z",
     "iopub.status.idle": "2025-01-16T08:52:08.872250Z",
     "shell.execute_reply": "2025-01-16T08:52:08.870886Z"
    },
    "papermill": {
     "duration": 78.634688,
     "end_time": "2025-01-16T08:52:08.874655",
     "exception": false,
     "start_time": "2025-01-16T08:50:50.239967",
     "status": "completed"
    },
    "tags": []
   },
   "outputs": [
    {
     "name": "stdout",
     "output_type": "stream",
     "text": [
      "Epoch 1/25\n",
      "\u001b[1m175/175\u001b[0m \u001b[32m━━━━━━━━━━━━━━━━━━━━\u001b[0m\u001b[37m\u001b[0m \u001b[1m4s\u001b[0m 17ms/step - accuracy: 0.2862 - loss: 3.5220 - val_accuracy: 0.4825 - val_loss: 1.5095\n",
      "Epoch 2/25\n",
      "\u001b[1m175/175\u001b[0m \u001b[32m━━━━━━━━━━━━━━━━━━━━\u001b[0m\u001b[37m\u001b[0m \u001b[1m3s\u001b[0m 15ms/step - accuracy: 0.4896 - loss: 1.4929 - val_accuracy: 0.5018 - val_loss: 1.4170\n",
      "Epoch 3/25\n",
      "\u001b[1m175/175\u001b[0m \u001b[32m━━━━━━━━━━━━━━━━━━━━\u001b[0m\u001b[37m\u001b[0m \u001b[1m3s\u001b[0m 15ms/step - accuracy: 0.5662 - loss: 1.2848 - val_accuracy: 0.5483 - val_loss: 1.3203\n",
      "Epoch 4/25\n",
      "\u001b[1m175/175\u001b[0m \u001b[32m━━━━━━━━━━━━━━━━━━━━\u001b[0m\u001b[37m\u001b[0m \u001b[1m3s\u001b[0m 17ms/step - accuracy: 0.6031 - loss: 1.1799 - val_accuracy: 0.5719 - val_loss: 1.2440\n",
      "Epoch 5/25\n",
      "\u001b[1m175/175\u001b[0m \u001b[32m━━━━━━━━━━━━━━━━━━━━\u001b[0m\u001b[37m\u001b[0m \u001b[1m3s\u001b[0m 17ms/step - accuracy: 0.6261 - loss: 1.1139 - val_accuracy: 0.6020 - val_loss: 1.1943\n",
      "Epoch 6/25\n",
      "\u001b[1m175/175\u001b[0m \u001b[32m━━━━━━━━━━━━━━━━━━━━\u001b[0m\u001b[37m\u001b[0m \u001b[1m3s\u001b[0m 15ms/step - accuracy: 0.6597 - loss: 1.0001 - val_accuracy: 0.6178 - val_loss: 1.1786\n",
      "Epoch 7/25\n",
      "\u001b[1m175/175\u001b[0m \u001b[32m━━━━━━━━━━━━━━━━━━━━\u001b[0m\u001b[37m\u001b[0m \u001b[1m3s\u001b[0m 15ms/step - accuracy: 0.6760 - loss: 0.9547 - val_accuracy: 0.6321 - val_loss: 1.1746\n",
      "Epoch 8/25\n",
      "\u001b[1m175/175\u001b[0m \u001b[32m━━━━━━━━━━━━━━━━━━━━\u001b[0m\u001b[37m\u001b[0m \u001b[1m5s\u001b[0m 16ms/step - accuracy: 0.6898 - loss: 0.8792 - val_accuracy: 0.6321 - val_loss: 1.1416\n",
      "Epoch 9/25\n",
      "\u001b[1m175/175\u001b[0m \u001b[32m━━━━━━━━━━━━━━━━━━━━\u001b[0m\u001b[37m\u001b[0m \u001b[1m3s\u001b[0m 16ms/step - accuracy: 0.7200 - loss: 0.8258 - val_accuracy: 0.6371 - val_loss: 1.1462\n",
      "Epoch 10/25\n",
      "\u001b[1m175/175\u001b[0m \u001b[32m━━━━━━━━━━━━━━━━━━━━\u001b[0m\u001b[37m\u001b[0m \u001b[1m3s\u001b[0m 16ms/step - accuracy: 0.7456 - loss: 0.7461 - val_accuracy: 0.6564 - val_loss: 1.1359\n",
      "Epoch 11/25\n",
      "\u001b[1m175/175\u001b[0m \u001b[32m━━━━━━━━━━━━━━━━━━━━\u001b[0m\u001b[37m\u001b[0m \u001b[1m3s\u001b[0m 16ms/step - accuracy: 0.7377 - loss: 0.7498 - val_accuracy: 0.6478 - val_loss: 1.1178\n",
      "Epoch 12/25\n",
      "\u001b[1m175/175\u001b[0m \u001b[32m━━━━━━━━━━━━━━━━━━━━\u001b[0m\u001b[37m\u001b[0m \u001b[1m3s\u001b[0m 16ms/step - accuracy: 0.7816 - loss: 0.6589 - val_accuracy: 0.6571 - val_loss: 1.0920\n",
      "Epoch 13/25\n",
      "\u001b[1m175/175\u001b[0m \u001b[32m━━━━━━━━━━━━━━━━━━━━\u001b[0m\u001b[37m\u001b[0m \u001b[1m3s\u001b[0m 16ms/step - accuracy: 0.7929 - loss: 0.6168 - val_accuracy: 0.6650 - val_loss: 1.0717\n",
      "Epoch 14/25\n",
      "\u001b[1m175/175\u001b[0m \u001b[32m━━━━━━━━━━━━━━━━━━━━\u001b[0m\u001b[37m\u001b[0m \u001b[1m3s\u001b[0m 16ms/step - accuracy: 0.8045 - loss: 0.5680 - val_accuracy: 0.7079 - val_loss: 1.0065\n",
      "Epoch 15/25\n",
      "\u001b[1m175/175\u001b[0m \u001b[32m━━━━━━━━━━━━━━━━━━━━\u001b[0m\u001b[37m\u001b[0m \u001b[1m3s\u001b[0m 17ms/step - accuracy: 0.8088 - loss: 0.5644 - val_accuracy: 0.6743 - val_loss: 1.1736\n",
      "Epoch 16/25\n",
      "\u001b[1m175/175\u001b[0m \u001b[32m━━━━━━━━━━━━━━━━━━━━\u001b[0m\u001b[37m\u001b[0m \u001b[1m3s\u001b[0m 16ms/step - accuracy: 0.8080 - loss: 0.5734 - val_accuracy: 0.6936 - val_loss: 1.0545\n",
      "Epoch 17/25\n",
      "\u001b[1m175/175\u001b[0m \u001b[32m━━━━━━━━━━━━━━━━━━━━\u001b[0m\u001b[37m\u001b[0m \u001b[1m3s\u001b[0m 16ms/step - accuracy: 0.8343 - loss: 0.5110 - val_accuracy: 0.6929 - val_loss: 1.0702\n",
      "Epoch 18/25\n",
      "\u001b[1m175/175\u001b[0m \u001b[32m━━━━━━━━━━━━━━━━━━━━\u001b[0m\u001b[37m\u001b[0m \u001b[1m6s\u001b[0m 19ms/step - accuracy: 0.8389 - loss: 0.4762 - val_accuracy: 0.7044 - val_loss: 1.1186\n",
      "Epoch 19/25\n",
      "\u001b[1m175/175\u001b[0m \u001b[32m━━━━━━━━━━━━━━━━━━━━\u001b[0m\u001b[37m\u001b[0m \u001b[1m4s\u001b[0m 22ms/step - accuracy: 0.8539 - loss: 0.4099 - val_accuracy: 0.6722 - val_loss: 1.1939\n",
      "Epoch 20/25\n",
      "\u001b[1m175/175\u001b[0m \u001b[32m━━━━━━━━━━━━━━━━━━━━\u001b[0m\u001b[37m\u001b[0m \u001b[1m3s\u001b[0m 19ms/step - accuracy: 0.8634 - loss: 0.4331 - val_accuracy: 0.7058 - val_loss: 1.1526\n",
      "Epoch 21/25\n",
      "\u001b[1m175/175\u001b[0m \u001b[32m━━━━━━━━━━━━━━━━━━━━\u001b[0m\u001b[37m\u001b[0m \u001b[1m3s\u001b[0m 15ms/step - accuracy: 0.8605 - loss: 0.4113 - val_accuracy: 0.7144 - val_loss: 1.1657\n",
      "Epoch 22/25\n",
      "\u001b[1m175/175\u001b[0m \u001b[32m━━━━━━━━━━━━━━━━━━━━\u001b[0m\u001b[37m\u001b[0m \u001b[1m3s\u001b[0m 15ms/step - accuracy: 0.8787 - loss: 0.3573 - val_accuracy: 0.6972 - val_loss: 1.2167\n",
      "Epoch 23/25\n",
      "\u001b[1m175/175\u001b[0m \u001b[32m━━━━━━━━━━━━━━━━━━━━\u001b[0m\u001b[37m\u001b[0m \u001b[1m3s\u001b[0m 16ms/step - accuracy: 0.8935 - loss: 0.3381 - val_accuracy: 0.6958 - val_loss: 1.3440\n",
      "Epoch 24/25\n",
      "\u001b[1m175/175\u001b[0m \u001b[32m━━━━━━━━━━━━━━━━━━━━\u001b[0m\u001b[37m\u001b[0m \u001b[1m3s\u001b[0m 15ms/step - accuracy: 0.8848 - loss: 0.3433 - val_accuracy: 0.6994 - val_loss: 1.1906\n",
      "Epoch 25/25\n",
      "\u001b[1m175/175\u001b[0m \u001b[32m━━━━━━━━━━━━━━━━━━━━\u001b[0m\u001b[37m\u001b[0m \u001b[1m3s\u001b[0m 17ms/step - accuracy: 0.8927 - loss: 0.3296 - val_accuracy: 0.7173 - val_loss: 1.2289\n"
     ]
    }
   ],
   "source": [
    "history = model.fit(X_train, y_train, epochs=25, batch_size=32, validation_split=0.2)"
   ]
  },
  {
   "cell_type": "code",
   "execution_count": 13,
   "id": "a82c5f7a",
   "metadata": {
    "execution": {
     "iopub.execute_input": "2025-01-16T08:52:09.060352Z",
     "iopub.status.busy": "2025-01-16T08:52:09.059951Z",
     "iopub.status.idle": "2025-01-16T08:52:09.495284Z",
     "shell.execute_reply": "2025-01-16T08:52:09.493960Z"
    },
    "papermill": {
     "duration": 0.530758,
     "end_time": "2025-01-16T08:52:09.497328",
     "exception": false,
     "start_time": "2025-01-16T08:52:08.966570",
     "status": "completed"
    },
    "tags": []
   },
   "outputs": [
    {
     "name": "stdout",
     "output_type": "stream",
     "text": [
      "\u001b[1m55/55\u001b[0m \u001b[32m━━━━━━━━━━━━━━━━━━━━\u001b[0m\u001b[37m\u001b[0m \u001b[1m0s\u001b[0m 6ms/step - accuracy: 0.7477 - loss: 1.0009\n",
      "Test Accuracy: 0.7372638583183289\n"
     ]
    }
   ],
   "source": [
    "loss, accuracy = model.evaluate(X_test, y_test)\n",
    "print(f'Test Accuracy: {accuracy:}')"
   ]
  }
 ],
 "metadata": {
  "kaggle": {
   "accelerator": "none",
   "dataSources": [
    {
     "datasetId": 500970,
     "sourceId": 928025,
     "sourceType": "datasetVersion"
    }
   ],
   "dockerImageVersionId": 30822,
   "isGpuEnabled": false,
   "isInternetEnabled": true,
   "language": "python",
   "sourceType": "notebook"
  },
  "kernelspec": {
   "display_name": "Python 3",
   "language": "python",
   "name": "python3"
  },
  "language_info": {
   "codemirror_mode": {
    "name": "ipython",
    "version": 3
   },
   "file_extension": ".py",
   "mimetype": "text/x-python",
   "name": "python",
   "nbconvert_exporter": "python",
   "pygments_lexer": "ipython3",
   "version": "3.10.12"
  },
  "papermill": {
   "default_parameters": {},
   "duration": 1277.141131,
   "end_time": "2025-01-16T08:52:12.682679",
   "environment_variables": {},
   "exception": null,
   "input_path": "__notebook__.ipynb",
   "output_path": "__notebook__.ipynb",
   "parameters": {},
   "start_time": "2025-01-16T08:30:55.541548",
   "version": "2.6.0"
  }
 },
 "nbformat": 4,
 "nbformat_minor": 5
}
